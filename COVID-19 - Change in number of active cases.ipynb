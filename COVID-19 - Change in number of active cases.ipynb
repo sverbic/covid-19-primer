{
 "cells": [
  {
   "cell_type": "markdown",
   "metadata": {},
   "source": [
    "Ovo je primer kako mogu da se vizuelizuju javno dosupni podaci na internetu u vezi sa COVID-19 pandemijom. Primer je urađen kao Jupyter Notebook sa R kernelom. "
   ]
  },
  {
   "cell_type": "markdown",
   "metadata": {},
   "source": [
    "Ako zanemarimo pouzdanost podataka, o čemu bi inače uvek trebalo da vodite računa, postoji niz tehničkih problema koje treba rešavati. Ovde će biti prikazani neki uobičajeni. Ideja da vidite probleme i neke mogućnosti za njihovo rešavanje. Sve ovo može elegantnije, ali to sad nije najvažnije."
   ]
  },
  {
   "cell_type": "markdown",
   "metadata": {},
   "source": [
    "Za početak, treba da učitamo najnovije podatke sa [COVID-19 github repozitorijuma Johns Hopkins univerziteta](https://github.com/CSSEGISandData/COVID-19/tree/master/csse_covid_19_data/csse_covid_19_time_series). Na ovom sajtu možete da vidite da su posebno dati podaci za broj zaraženih, broj umrlih i broj oporavljenih do određenog dana To su tri tabele koje treba da učitamo kao iz csv fajlova. Kliknite na odgovarajuće linkove u repozitorijumu i iskopirajte URL. \n",
    "\n",
    "Koristimo funkciju `read.csv` za čitanje fajlova. Primetite da koristimo opciju __stringsAsFactors = F__ da bi niz podataka bio tekst, a ne faktor. "
   ]
  },
  {
   "cell_type": "code",
   "execution_count": 1,
   "metadata": {},
   "outputs": [],
   "source": [
    "# co je broj potvrđenih slučajeva zaraze\n",
    "co=read.csv('https://raw.githubusercontent.com/CSSEGISandData/COVID-19/master/csse_covid_19_data/csse_covid_19_time_series/time_series_covid19_confirmed_global.csv',stringsAsFactors = F)"
   ]
  },
  {
   "cell_type": "code",
   "execution_count": 2,
   "metadata": {},
   "outputs": [],
   "source": [
    "# de je broj umrlih po zemljama\n",
    "de=read.csv('https://raw.githubusercontent.com/CSSEGISandData/COVID-19/master/csse_covid_19_data/csse_covid_19_time_series/time_series_covid19_deaths_global.csv',stringsAsFactors = F)"
   ]
  },
  {
   "cell_type": "code",
   "execution_count": 3,
   "metadata": {},
   "outputs": [],
   "source": [
    "# re je broj oporavljenih\n",
    "re=read.csv('https://raw.githubusercontent.com/CSSEGISandData/COVID-19/master/csse_covid_19_data/csse_covid_19_time_series/time_series_covid19_recovered_global.csv',stringsAsFactors = F)"
   ]
  },
  {
   "cell_type": "markdown",
   "metadata": {},
   "source": [
    "Da vidimo samo kolika je ova tabela. Funkcija `dim` nam daje dimenzije tabele. (Danas, 17. aprila, tu ima 264 država i oblasti po redovima i 90 kolona sa podacima po danima.)"
   ]
  },
  {
   "cell_type": "code",
   "execution_count": 4,
   "metadata": {},
   "outputs": [
    {
     "data": {
      "text/html": [
       "<style>\n",
       ".list-inline {list-style: none; margin:0; padding: 0}\n",
       ".list-inline>li {display: inline-block}\n",
       ".list-inline>li:not(:last-child)::after {content: \"\\00b7\"; padding: 0 .5ex}\n",
       "</style>\n",
       "<ol class=list-inline><li>264</li><li>92</li></ol>\n"
      ],
      "text/latex": [
       "\\begin{enumerate*}\n",
       "\\item 264\n",
       "\\item 92\n",
       "\\end{enumerate*}\n"
      ],
      "text/markdown": [
       "1. 264\n",
       "2. 92\n",
       "\n",
       "\n"
      ],
      "text/plain": [
       "[1] 264  92"
      ]
     },
     "metadata": {},
     "output_type": "display_data"
    }
   ],
   "source": [
    "dim(de)"
   ]
  },
  {
   "cell_type": "markdown",
   "metadata": {},
   "source": [
    "Sa `head` možemo da vidimo prvih nekoliko redova, odnosno zaglavlje tabele. Parametar 20 je tu da nam prikaže prvih 20 redova."
   ]
  },
  {
   "cell_type": "code",
   "execution_count": 5,
   "metadata": {},
   "outputs": [
    {
     "data": {
      "text/html": [
       "<table>\n",
       "<caption>A data.frame: 20 × 92</caption>\n",
       "<thead>\n",
       "\t<tr><th></th><th scope=col>Province.State</th><th scope=col>Country.Region</th><th scope=col>Lat</th><th scope=col>Long</th><th scope=col>X1.22.20</th><th scope=col>X1.23.20</th><th scope=col>X1.24.20</th><th scope=col>X1.25.20</th><th scope=col>X1.26.20</th><th scope=col>X1.27.20</th><th scope=col>...</th><th scope=col>X4.9.20</th><th scope=col>X4.10.20</th><th scope=col>X4.11.20</th><th scope=col>X4.12.20</th><th scope=col>X4.13.20</th><th scope=col>X4.14.20</th><th scope=col>X4.15.20</th><th scope=col>X4.16.20</th><th scope=col>X4.17.20</th><th scope=col>X4.18.20</th></tr>\n",
       "\t<tr><th></th><th scope=col>&lt;chr&gt;</th><th scope=col>&lt;chr&gt;</th><th scope=col>&lt;dbl&gt;</th><th scope=col>&lt;dbl&gt;</th><th scope=col>&lt;int&gt;</th><th scope=col>&lt;int&gt;</th><th scope=col>&lt;int&gt;</th><th scope=col>&lt;int&gt;</th><th scope=col>&lt;int&gt;</th><th scope=col>&lt;int&gt;</th><th scope=col>...</th><th scope=col>&lt;int&gt;</th><th scope=col>&lt;int&gt;</th><th scope=col>&lt;int&gt;</th><th scope=col>&lt;int&gt;</th><th scope=col>&lt;int&gt;</th><th scope=col>&lt;int&gt;</th><th scope=col>&lt;int&gt;</th><th scope=col>&lt;int&gt;</th><th scope=col>&lt;int&gt;</th><th scope=col>&lt;int&gt;</th></tr>\n",
       "</thead>\n",
       "<tbody>\n",
       "\t<tr><th scope=row>1</th><td>                            </td><td>Afghanistan        </td><td> 33.0000</td><td> 65.0000</td><td>0</td><td>0</td><td>0</td><td>0</td><td>0</td><td>0</td><td>...</td><td> 15</td><td> 15</td><td> 18</td><td> 18</td><td> 21</td><td> 23</td><td> 25</td><td> 30</td><td> 30</td><td> 30</td></tr>\n",
       "\t<tr><th scope=row>2</th><td>                            </td><td>Albania            </td><td> 41.1533</td><td> 20.1683</td><td>0</td><td>0</td><td>0</td><td>0</td><td>0</td><td>0</td><td>...</td><td> 23</td><td> 23</td><td> 23</td><td> 23</td><td> 23</td><td> 24</td><td> 25</td><td> 26</td><td> 26</td><td> 26</td></tr>\n",
       "\t<tr><th scope=row>3</th><td>                            </td><td>Algeria            </td><td> 28.0339</td><td>  1.6596</td><td>0</td><td>0</td><td>0</td><td>0</td><td>0</td><td>0</td><td>...</td><td>235</td><td>256</td><td>275</td><td>293</td><td>313</td><td>326</td><td>336</td><td>348</td><td>364</td><td>367</td></tr>\n",
       "\t<tr><th scope=row>4</th><td>                            </td><td>Andorra            </td><td> 42.5063</td><td>  1.5218</td><td>0</td><td>0</td><td>0</td><td>0</td><td>0</td><td>0</td><td>...</td><td> 25</td><td> 26</td><td> 26</td><td> 29</td><td> 29</td><td> 31</td><td> 33</td><td> 33</td><td> 35</td><td> 35</td></tr>\n",
       "\t<tr><th scope=row>5</th><td>                            </td><td>Angola             </td><td>-11.2027</td><td> 17.8739</td><td>0</td><td>0</td><td>0</td><td>0</td><td>0</td><td>0</td><td>...</td><td>  2</td><td>  2</td><td>  2</td><td>  2</td><td>  2</td><td>  2</td><td>  2</td><td>  2</td><td>  2</td><td>  2</td></tr>\n",
       "\t<tr><th scope=row>6</th><td>                            </td><td>Antigua and Barbuda</td><td> 17.0608</td><td>-61.7964</td><td>0</td><td>0</td><td>0</td><td>0</td><td>0</td><td>0</td><td>...</td><td>  2</td><td>  2</td><td>  2</td><td>  2</td><td>  2</td><td>  2</td><td>  2</td><td>  3</td><td>  3</td><td>  3</td></tr>\n",
       "\t<tr><th scope=row>7</th><td>                            </td><td>Argentina          </td><td>-38.4161</td><td>-63.6167</td><td>0</td><td>0</td><td>0</td><td>0</td><td>0</td><td>0</td><td>...</td><td> 72</td><td> 82</td><td> 83</td><td> 90</td><td> 97</td><td>102</td><td>111</td><td>115</td><td>123</td><td>129</td></tr>\n",
       "\t<tr><th scope=row>8</th><td>                            </td><td>Armenia            </td><td> 40.0691</td><td> 45.0382</td><td>0</td><td>0</td><td>0</td><td>0</td><td>0</td><td>0</td><td>...</td><td> 10</td><td> 12</td><td> 13</td><td> 13</td><td> 14</td><td> 16</td><td> 17</td><td> 18</td><td> 19</td><td> 20</td></tr>\n",
       "\t<tr><th scope=row>9</th><td>Australian Capital Territory</td><td>Australia          </td><td>-35.4735</td><td>149.0124</td><td>0</td><td>0</td><td>0</td><td>0</td><td>0</td><td>0</td><td>...</td><td>  2</td><td>  2</td><td>  2</td><td>  2</td><td>  2</td><td>  2</td><td>  3</td><td>  3</td><td>  3</td><td>  3</td></tr>\n",
       "\t<tr><th scope=row>10</th><td>New South Wales             </td><td>Australia          </td><td>-33.8688</td><td>151.2093</td><td>0</td><td>0</td><td>0</td><td>0</td><td>0</td><td>0</td><td>...</td><td> 21</td><td> 22</td><td> 23</td><td> 24</td><td> 25</td><td> 25</td><td> 25</td><td> 25</td><td> 26</td><td> 26</td></tr>\n",
       "\t<tr><th scope=row>11</th><td>Northern Territory          </td><td>Australia          </td><td>-12.4634</td><td>130.8456</td><td>0</td><td>0</td><td>0</td><td>0</td><td>0</td><td>0</td><td>...</td><td>  0</td><td>  0</td><td>  0</td><td>  0</td><td>  0</td><td>  0</td><td>  0</td><td>  0</td><td>  0</td><td>  0</td></tr>\n",
       "\t<tr><th scope=row>12</th><td>Queensland                  </td><td>Australia          </td><td>-28.0167</td><td>153.4000</td><td>0</td><td>0</td><td>0</td><td>0</td><td>0</td><td>0</td><td>...</td><td>  4</td><td>  4</td><td>  5</td><td>  5</td><td>  5</td><td>  5</td><td>  5</td><td>  5</td><td>  5</td><td>  6</td></tr>\n",
       "\t<tr><th scope=row>13</th><td>South Australia             </td><td>Australia          </td><td>-34.9285</td><td>138.6007</td><td>0</td><td>0</td><td>0</td><td>0</td><td>0</td><td>0</td><td>...</td><td>  3</td><td>  3</td><td>  3</td><td>  4</td><td>  4</td><td>  4</td><td>  4</td><td>  4</td><td>  4</td><td>  4</td></tr>\n",
       "\t<tr><th scope=row>14</th><td>Tasmania                    </td><td>Australia          </td><td>-41.4545</td><td>145.9707</td><td>0</td><td>0</td><td>0</td><td>0</td><td>0</td><td>0</td><td>...</td><td>  3</td><td>  4</td><td>  4</td><td>  5</td><td>  5</td><td>  6</td><td>  6</td><td>  6</td><td>  7</td><td>  7</td></tr>\n",
       "\t<tr><th scope=row>15</th><td>Victoria                    </td><td>Australia          </td><td>-37.8136</td><td>144.9631</td><td>0</td><td>0</td><td>0</td><td>0</td><td>0</td><td>0</td><td>...</td><td> 12</td><td> 13</td><td> 14</td><td> 14</td><td> 14</td><td> 14</td><td> 14</td><td> 14</td><td> 14</td><td> 14</td></tr>\n",
       "\t<tr><th scope=row>16</th><td>Western Australia           </td><td>Australia          </td><td>-31.9505</td><td>115.8605</td><td>0</td><td>0</td><td>0</td><td>0</td><td>0</td><td>0</td><td>...</td><td>  6</td><td>  6</td><td>  6</td><td>  6</td><td>  6</td><td>  6</td><td>  6</td><td>  6</td><td>  7</td><td>  7</td></tr>\n",
       "\t<tr><th scope=row>17</th><td>                            </td><td>Austria            </td><td> 47.5162</td><td> 14.5501</td><td>0</td><td>0</td><td>0</td><td>0</td><td>0</td><td>0</td><td>...</td><td>295</td><td>319</td><td>337</td><td>350</td><td>368</td><td>384</td><td>393</td><td>410</td><td>431</td><td>443</td></tr>\n",
       "\t<tr><th scope=row>18</th><td>                            </td><td>Azerbaijan         </td><td> 40.1431</td><td> 47.5769</td><td>0</td><td>0</td><td>0</td><td>0</td><td>0</td><td>0</td><td>...</td><td>  9</td><td> 10</td><td> 11</td><td> 11</td><td> 12</td><td> 13</td><td> 13</td><td> 15</td><td> 15</td><td> 18</td></tr>\n",
       "\t<tr><th scope=row>19</th><td>                            </td><td>Bahamas            </td><td> 25.0343</td><td>-77.3963</td><td>0</td><td>0</td><td>0</td><td>0</td><td>0</td><td>0</td><td>...</td><td>  8</td><td>  8</td><td>  8</td><td>  8</td><td>  8</td><td>  8</td><td>  8</td><td>  8</td><td>  9</td><td>  9</td></tr>\n",
       "\t<tr><th scope=row>20</th><td>                            </td><td>Bahrain            </td><td> 26.0275</td><td> 50.5500</td><td>0</td><td>0</td><td>0</td><td>0</td><td>0</td><td>0</td><td>...</td><td>  5</td><td>  6</td><td>  6</td><td>  6</td><td>  6</td><td>  7</td><td>  7</td><td>  7</td><td>  7</td><td>  7</td></tr>\n",
       "</tbody>\n",
       "</table>\n"
      ],
      "text/latex": [
       "A data.frame: 20 × 92\n",
       "\\begin{tabular}{r|lllllllllllllllllllll}\n",
       "  & Province.State & Country.Region & Lat & Long & X1.22.20 & X1.23.20 & X1.24.20 & X1.25.20 & X1.26.20 & X1.27.20 & ... & X4.9.20 & X4.10.20 & X4.11.20 & X4.12.20 & X4.13.20 & X4.14.20 & X4.15.20 & X4.16.20 & X4.17.20 & X4.18.20\\\\\n",
       "  & <chr> & <chr> & <dbl> & <dbl> & <int> & <int> & <int> & <int> & <int> & <int> & ... & <int> & <int> & <int> & <int> & <int> & <int> & <int> & <int> & <int> & <int>\\\\\n",
       "\\hline\n",
       "\t1 &                              & Afghanistan         &  33.0000 &  65.0000 & 0 & 0 & 0 & 0 & 0 & 0 & ... &  15 &  15 &  18 &  18 &  21 &  23 &  25 &  30 &  30 &  30\\\\\n",
       "\t2 &                              & Albania             &  41.1533 &  20.1683 & 0 & 0 & 0 & 0 & 0 & 0 & ... &  23 &  23 &  23 &  23 &  23 &  24 &  25 &  26 &  26 &  26\\\\\n",
       "\t3 &                              & Algeria             &  28.0339 &   1.6596 & 0 & 0 & 0 & 0 & 0 & 0 & ... & 235 & 256 & 275 & 293 & 313 & 326 & 336 & 348 & 364 & 367\\\\\n",
       "\t4 &                              & Andorra             &  42.5063 &   1.5218 & 0 & 0 & 0 & 0 & 0 & 0 & ... &  25 &  26 &  26 &  29 &  29 &  31 &  33 &  33 &  35 &  35\\\\\n",
       "\t5 &                              & Angola              & -11.2027 &  17.8739 & 0 & 0 & 0 & 0 & 0 & 0 & ... &   2 &   2 &   2 &   2 &   2 &   2 &   2 &   2 &   2 &   2\\\\\n",
       "\t6 &                              & Antigua and Barbuda &  17.0608 & -61.7964 & 0 & 0 & 0 & 0 & 0 & 0 & ... &   2 &   2 &   2 &   2 &   2 &   2 &   2 &   3 &   3 &   3\\\\\n",
       "\t7 &                              & Argentina           & -38.4161 & -63.6167 & 0 & 0 & 0 & 0 & 0 & 0 & ... &  72 &  82 &  83 &  90 &  97 & 102 & 111 & 115 & 123 & 129\\\\\n",
       "\t8 &                              & Armenia             &  40.0691 &  45.0382 & 0 & 0 & 0 & 0 & 0 & 0 & ... &  10 &  12 &  13 &  13 &  14 &  16 &  17 &  18 &  19 &  20\\\\\n",
       "\t9 & Australian Capital Territory & Australia           & -35.4735 & 149.0124 & 0 & 0 & 0 & 0 & 0 & 0 & ... &   2 &   2 &   2 &   2 &   2 &   2 &   3 &   3 &   3 &   3\\\\\n",
       "\t10 & New South Wales              & Australia           & -33.8688 & 151.2093 & 0 & 0 & 0 & 0 & 0 & 0 & ... &  21 &  22 &  23 &  24 &  25 &  25 &  25 &  25 &  26 &  26\\\\\n",
       "\t11 & Northern Territory           & Australia           & -12.4634 & 130.8456 & 0 & 0 & 0 & 0 & 0 & 0 & ... &   0 &   0 &   0 &   0 &   0 &   0 &   0 &   0 &   0 &   0\\\\\n",
       "\t12 & Queensland                   & Australia           & -28.0167 & 153.4000 & 0 & 0 & 0 & 0 & 0 & 0 & ... &   4 &   4 &   5 &   5 &   5 &   5 &   5 &   5 &   5 &   6\\\\\n",
       "\t13 & South Australia              & Australia           & -34.9285 & 138.6007 & 0 & 0 & 0 & 0 & 0 & 0 & ... &   3 &   3 &   3 &   4 &   4 &   4 &   4 &   4 &   4 &   4\\\\\n",
       "\t14 & Tasmania                     & Australia           & -41.4545 & 145.9707 & 0 & 0 & 0 & 0 & 0 & 0 & ... &   3 &   4 &   4 &   5 &   5 &   6 &   6 &   6 &   7 &   7\\\\\n",
       "\t15 & Victoria                     & Australia           & -37.8136 & 144.9631 & 0 & 0 & 0 & 0 & 0 & 0 & ... &  12 &  13 &  14 &  14 &  14 &  14 &  14 &  14 &  14 &  14\\\\\n",
       "\t16 & Western Australia            & Australia           & -31.9505 & 115.8605 & 0 & 0 & 0 & 0 & 0 & 0 & ... &   6 &   6 &   6 &   6 &   6 &   6 &   6 &   6 &   7 &   7\\\\\n",
       "\t17 &                              & Austria             &  47.5162 &  14.5501 & 0 & 0 & 0 & 0 & 0 & 0 & ... & 295 & 319 & 337 & 350 & 368 & 384 & 393 & 410 & 431 & 443\\\\\n",
       "\t18 &                              & Azerbaijan          &  40.1431 &  47.5769 & 0 & 0 & 0 & 0 & 0 & 0 & ... &   9 &  10 &  11 &  11 &  12 &  13 &  13 &  15 &  15 &  18\\\\\n",
       "\t19 &                              & Bahamas             &  25.0343 & -77.3963 & 0 & 0 & 0 & 0 & 0 & 0 & ... &   8 &   8 &   8 &   8 &   8 &   8 &   8 &   8 &   9 &   9\\\\\n",
       "\t20 &                              & Bahrain             &  26.0275 &  50.5500 & 0 & 0 & 0 & 0 & 0 & 0 & ... &   5 &   6 &   6 &   6 &   6 &   7 &   7 &   7 &   7 &   7\\\\\n",
       "\\end{tabular}\n"
      ],
      "text/markdown": [
       "\n",
       "A data.frame: 20 × 92\n",
       "\n",
       "| <!--/--> | Province.State &lt;chr&gt; | Country.Region &lt;chr&gt; | Lat &lt;dbl&gt; | Long &lt;dbl&gt; | X1.22.20 &lt;int&gt; | X1.23.20 &lt;int&gt; | X1.24.20 &lt;int&gt; | X1.25.20 &lt;int&gt; | X1.26.20 &lt;int&gt; | X1.27.20 &lt;int&gt; | ... ... | X4.9.20 &lt;int&gt; | X4.10.20 &lt;int&gt; | X4.11.20 &lt;int&gt; | X4.12.20 &lt;int&gt; | X4.13.20 &lt;int&gt; | X4.14.20 &lt;int&gt; | X4.15.20 &lt;int&gt; | X4.16.20 &lt;int&gt; | X4.17.20 &lt;int&gt; | X4.18.20 &lt;int&gt; |\n",
       "|---|---|---|---|---|---|---|---|---|---|---|---|---|---|---|---|---|---|---|---|---|---|\n",
       "| 1 | <!----> | Afghanistan         |  33.0000 |  65.0000 | 0 | 0 | 0 | 0 | 0 | 0 | ... |  15 |  15 |  18 |  18 |  21 |  23 |  25 |  30 |  30 |  30 |\n",
       "| 2 | <!----> | Albania             |  41.1533 |  20.1683 | 0 | 0 | 0 | 0 | 0 | 0 | ... |  23 |  23 |  23 |  23 |  23 |  24 |  25 |  26 |  26 |  26 |\n",
       "| 3 | <!----> | Algeria             |  28.0339 |   1.6596 | 0 | 0 | 0 | 0 | 0 | 0 | ... | 235 | 256 | 275 | 293 | 313 | 326 | 336 | 348 | 364 | 367 |\n",
       "| 4 | <!----> | Andorra             |  42.5063 |   1.5218 | 0 | 0 | 0 | 0 | 0 | 0 | ... |  25 |  26 |  26 |  29 |  29 |  31 |  33 |  33 |  35 |  35 |\n",
       "| 5 | <!----> | Angola              | -11.2027 |  17.8739 | 0 | 0 | 0 | 0 | 0 | 0 | ... |   2 |   2 |   2 |   2 |   2 |   2 |   2 |   2 |   2 |   2 |\n",
       "| 6 | <!----> | Antigua and Barbuda |  17.0608 | -61.7964 | 0 | 0 | 0 | 0 | 0 | 0 | ... |   2 |   2 |   2 |   2 |   2 |   2 |   2 |   3 |   3 |   3 |\n",
       "| 7 | <!----> | Argentina           | -38.4161 | -63.6167 | 0 | 0 | 0 | 0 | 0 | 0 | ... |  72 |  82 |  83 |  90 |  97 | 102 | 111 | 115 | 123 | 129 |\n",
       "| 8 | <!----> | Armenia             |  40.0691 |  45.0382 | 0 | 0 | 0 | 0 | 0 | 0 | ... |  10 |  12 |  13 |  13 |  14 |  16 |  17 |  18 |  19 |  20 |\n",
       "| 9 | Australian Capital Territory | Australia           | -35.4735 | 149.0124 | 0 | 0 | 0 | 0 | 0 | 0 | ... |   2 |   2 |   2 |   2 |   2 |   2 |   3 |   3 |   3 |   3 |\n",
       "| 10 | New South Wales              | Australia           | -33.8688 | 151.2093 | 0 | 0 | 0 | 0 | 0 | 0 | ... |  21 |  22 |  23 |  24 |  25 |  25 |  25 |  25 |  26 |  26 |\n",
       "| 11 | Northern Territory           | Australia           | -12.4634 | 130.8456 | 0 | 0 | 0 | 0 | 0 | 0 | ... |   0 |   0 |   0 |   0 |   0 |   0 |   0 |   0 |   0 |   0 |\n",
       "| 12 | Queensland                   | Australia           | -28.0167 | 153.4000 | 0 | 0 | 0 | 0 | 0 | 0 | ... |   4 |   4 |   5 |   5 |   5 |   5 |   5 |   5 |   5 |   6 |\n",
       "| 13 | South Australia              | Australia           | -34.9285 | 138.6007 | 0 | 0 | 0 | 0 | 0 | 0 | ... |   3 |   3 |   3 |   4 |   4 |   4 |   4 |   4 |   4 |   4 |\n",
       "| 14 | Tasmania                     | Australia           | -41.4545 | 145.9707 | 0 | 0 | 0 | 0 | 0 | 0 | ... |   3 |   4 |   4 |   5 |   5 |   6 |   6 |   6 |   7 |   7 |\n",
       "| 15 | Victoria                     | Australia           | -37.8136 | 144.9631 | 0 | 0 | 0 | 0 | 0 | 0 | ... |  12 |  13 |  14 |  14 |  14 |  14 |  14 |  14 |  14 |  14 |\n",
       "| 16 | Western Australia            | Australia           | -31.9505 | 115.8605 | 0 | 0 | 0 | 0 | 0 | 0 | ... |   6 |   6 |   6 |   6 |   6 |   6 |   6 |   6 |   7 |   7 |\n",
       "| 17 | <!----> | Austria             |  47.5162 |  14.5501 | 0 | 0 | 0 | 0 | 0 | 0 | ... | 295 | 319 | 337 | 350 | 368 | 384 | 393 | 410 | 431 | 443 |\n",
       "| 18 | <!----> | Azerbaijan          |  40.1431 |  47.5769 | 0 | 0 | 0 | 0 | 0 | 0 | ... |   9 |  10 |  11 |  11 |  12 |  13 |  13 |  15 |  15 |  18 |\n",
       "| 19 | <!----> | Bahamas             |  25.0343 | -77.3963 | 0 | 0 | 0 | 0 | 0 | 0 | ... |   8 |   8 |   8 |   8 |   8 |   8 |   8 |   8 |   9 |   9 |\n",
       "| 20 | <!----> | Bahrain             |  26.0275 |  50.5500 | 0 | 0 | 0 | 0 | 0 | 0 | ... |   5 |   6 |   6 |   6 |   6 |   7 |   7 |   7 |   7 |   7 |\n",
       "\n"
      ],
      "text/plain": [
       "   Province.State               Country.Region      Lat      Long     X1.22.20\n",
       "1                               Afghanistan          33.0000  65.0000 0       \n",
       "2                               Albania              41.1533  20.1683 0       \n",
       "3                               Algeria              28.0339   1.6596 0       \n",
       "4                               Andorra              42.5063   1.5218 0       \n",
       "5                               Angola              -11.2027  17.8739 0       \n",
       "6                               Antigua and Barbuda  17.0608 -61.7964 0       \n",
       "7                               Argentina           -38.4161 -63.6167 0       \n",
       "8                               Armenia              40.0691  45.0382 0       \n",
       "9  Australian Capital Territory Australia           -35.4735 149.0124 0       \n",
       "10 New South Wales              Australia           -33.8688 151.2093 0       \n",
       "11 Northern Territory           Australia           -12.4634 130.8456 0       \n",
       "12 Queensland                   Australia           -28.0167 153.4000 0       \n",
       "13 South Australia              Australia           -34.9285 138.6007 0       \n",
       "14 Tasmania                     Australia           -41.4545 145.9707 0       \n",
       "15 Victoria                     Australia           -37.8136 144.9631 0       \n",
       "16 Western Australia            Australia           -31.9505 115.8605 0       \n",
       "17                              Austria              47.5162  14.5501 0       \n",
       "18                              Azerbaijan           40.1431  47.5769 0       \n",
       "19                              Bahamas              25.0343 -77.3963 0       \n",
       "20                              Bahrain              26.0275  50.5500 0       \n",
       "   X1.23.20 X1.24.20 X1.25.20 X1.26.20 X1.27.20 ... X4.9.20 X4.10.20 X4.11.20\n",
       "1  0        0        0        0        0        ...  15      15       18     \n",
       "2  0        0        0        0        0        ...  23      23       23     \n",
       "3  0        0        0        0        0        ... 235     256      275     \n",
       "4  0        0        0        0        0        ...  25      26       26     \n",
       "5  0        0        0        0        0        ...   2       2        2     \n",
       "6  0        0        0        0        0        ...   2       2        2     \n",
       "7  0        0        0        0        0        ...  72      82       83     \n",
       "8  0        0        0        0        0        ...  10      12       13     \n",
       "9  0        0        0        0        0        ...   2       2        2     \n",
       "10 0        0        0        0        0        ...  21      22       23     \n",
       "11 0        0        0        0        0        ...   0       0        0     \n",
       "12 0        0        0        0        0        ...   4       4        5     \n",
       "13 0        0        0        0        0        ...   3       3        3     \n",
       "14 0        0        0        0        0        ...   3       4        4     \n",
       "15 0        0        0        0        0        ...  12      13       14     \n",
       "16 0        0        0        0        0        ...   6       6        6     \n",
       "17 0        0        0        0        0        ... 295     319      337     \n",
       "18 0        0        0        0        0        ...   9      10       11     \n",
       "19 0        0        0        0        0        ...   8       8        8     \n",
       "20 0        0        0        0        0        ...   5       6        6     \n",
       "   X4.12.20 X4.13.20 X4.14.20 X4.15.20 X4.16.20 X4.17.20 X4.18.20\n",
       "1   18       21       23       25       30       30       30     \n",
       "2   23       23       24       25       26       26       26     \n",
       "3  293      313      326      336      348      364      367     \n",
       "4   29       29       31       33       33       35       35     \n",
       "5    2        2        2        2        2        2        2     \n",
       "6    2        2        2        2        3        3        3     \n",
       "7   90       97      102      111      115      123      129     \n",
       "8   13       14       16       17       18       19       20     \n",
       "9    2        2        2        3        3        3        3     \n",
       "10  24       25       25       25       25       26       26     \n",
       "11   0        0        0        0        0        0        0     \n",
       "12   5        5        5        5        5        5        6     \n",
       "13   4        4        4        4        4        4        4     \n",
       "14   5        5        6        6        6        7        7     \n",
       "15  14       14       14       14       14       14       14     \n",
       "16   6        6        6        6        6        7        7     \n",
       "17 350      368      384      393      410      431      443     \n",
       "18  11       12       13       13       15       15       18     \n",
       "19   8        8        8        8        8        9        9     \n",
       "20   6        6        7        7        7        7        7     "
      ]
     },
     "metadata": {},
     "output_type": "display_data"
    }
   ],
   "source": [
    "head(de,20)"
   ]
  },
  {
   "cell_type": "markdown",
   "metadata": {},
   "source": [
    "Očigledno je da se Australija, kao i neke druge zemlje, pojavljuju više puta jer su podaci dati po saveznim državama, provincijama, pokrajinama itd. Funkcija `table` će nam prikazati koliko kojih ima."
   ]
  },
  {
   "cell_type": "code",
   "execution_count": 6,
   "metadata": {},
   "outputs": [
    {
     "data": {
      "text/plain": [
       "\n",
       "                     Afghanistan                          Albania \n",
       "                               1                                1 \n",
       "                         Algeria                          Andorra \n",
       "                               1                                1 \n",
       "                          Angola              Antigua and Barbuda \n",
       "                               1                                1 \n",
       "                       Argentina                          Armenia \n",
       "                               1                                1 \n",
       "                       Australia                          Austria \n",
       "                               8                                1 \n",
       "                      Azerbaijan                          Bahamas \n",
       "                               1                                1 \n",
       "                         Bahrain                       Bangladesh \n",
       "                               1                                1 \n",
       "                        Barbados                          Belarus \n",
       "                               1                                1 \n",
       "                         Belgium                           Belize \n",
       "                               1                                1 \n",
       "                           Benin                           Bhutan \n",
       "                               1                                1 \n",
       "                         Bolivia           Bosnia and Herzegovina \n",
       "                               1                                1 \n",
       "                        Botswana                           Brazil \n",
       "                               1                                1 \n",
       "                          Brunei                         Bulgaria \n",
       "                               1                                1 \n",
       "                    Burkina Faso                            Burma \n",
       "                               1                                1 \n",
       "                         Burundi                       Cabo Verde \n",
       "                               1                                1 \n",
       "                        Cambodia                         Cameroon \n",
       "                               1                                1 \n",
       "                          Canada         Central African Republic \n",
       "                              15                                1 \n",
       "                            Chad                            Chile \n",
       "                               1                                1 \n",
       "                           China                         Colombia \n",
       "                              33                                1 \n",
       "             Congo (Brazzaville)                 Congo (Kinshasa) \n",
       "                               1                                1 \n",
       "                      Costa Rica                    Cote d'Ivoire \n",
       "                               1                                1 \n",
       "                         Croatia                             Cuba \n",
       "                               1                                1 \n",
       "                          Cyprus                          Czechia \n",
       "                               1                                1 \n",
       "                         Denmark                 Diamond Princess \n",
       "                               3                                1 \n",
       "                        Djibouti                         Dominica \n",
       "                               1                                1 \n",
       "              Dominican Republic                          Ecuador \n",
       "                               1                                1 \n",
       "                           Egypt                      El Salvador \n",
       "                               1                                1 \n",
       "               Equatorial Guinea                          Eritrea \n",
       "                               1                                1 \n",
       "                         Estonia                         Eswatini \n",
       "                               1                                1 \n",
       "                        Ethiopia                             Fiji \n",
       "                               1                                1 \n",
       "                         Finland                           France \n",
       "                               1                               11 \n",
       "                           Gabon                           Gambia \n",
       "                               1                                1 \n",
       "                         Georgia                          Germany \n",
       "                               1                                1 \n",
       "                           Ghana                           Greece \n",
       "                               1                                1 \n",
       "                         Grenada                        Guatemala \n",
       "                               1                                1 \n",
       "                          Guinea                    Guinea-Bissau \n",
       "                               1                                1 \n",
       "                          Guyana                            Haiti \n",
       "                               1                                1 \n",
       "                        Holy See                         Honduras \n",
       "                               1                                1 \n",
       "                         Hungary                          Iceland \n",
       "                               1                                1 \n",
       "                           India                        Indonesia \n",
       "                               1                                1 \n",
       "                            Iran                             Iraq \n",
       "                               1                                1 \n",
       "                         Ireland                           Israel \n",
       "                               1                                1 \n",
       "                           Italy                          Jamaica \n",
       "                               1                                1 \n",
       "                           Japan                           Jordan \n",
       "                               1                                1 \n",
       "                      Kazakhstan                            Kenya \n",
       "                               1                                1 \n",
       "                    Korea, South                           Kosovo \n",
       "                               1                                1 \n",
       "                          Kuwait                       Kyrgyzstan \n",
       "                               1                                1 \n",
       "                            Laos                           Latvia \n",
       "                               1                                1 \n",
       "                         Lebanon                          Liberia \n",
       "                               1                                1 \n",
       "                           Libya                    Liechtenstein \n",
       "                               1                                1 \n",
       "                       Lithuania                       Luxembourg \n",
       "                               1                                1 \n",
       "                      Madagascar                           Malawi \n",
       "                               1                                1 \n",
       "                        Malaysia                         Maldives \n",
       "                               1                                1 \n",
       "                            Mali                            Malta \n",
       "                               1                                1 \n",
       "                      Mauritania                        Mauritius \n",
       "                               1                                1 \n",
       "                          Mexico                          Moldova \n",
       "                               1                                1 \n",
       "                          Monaco                         Mongolia \n",
       "                               1                                1 \n",
       "                      Montenegro                          Morocco \n",
       "                               1                                1 \n",
       "                      Mozambique                       MS Zaandam \n",
       "                               1                                1 \n",
       "                         Namibia                            Nepal \n",
       "                               1                                1 \n",
       "                     Netherlands                      New Zealand \n",
       "                               5                                1 \n",
       "                       Nicaragua                            Niger \n",
       "                               1                                1 \n",
       "                         Nigeria                  North Macedonia \n",
       "                               1                                1 \n",
       "                          Norway                             Oman \n",
       "                               1                                1 \n",
       "                        Pakistan                           Panama \n",
       "                               1                                1 \n",
       "                Papua New Guinea                         Paraguay \n",
       "                               1                                1 \n",
       "                            Peru                      Philippines \n",
       "                               1                                1 \n",
       "                          Poland                         Portugal \n",
       "                               1                                1 \n",
       "                           Qatar                          Romania \n",
       "                               1                                1 \n",
       "                          Russia                           Rwanda \n",
       "                               1                                1 \n",
       "           Saint Kitts and Nevis                      Saint Lucia \n",
       "                               1                                1 \n",
       "Saint Vincent and the Grenadines                       San Marino \n",
       "                               1                                1 \n",
       "           Sao Tome and Principe                     Saudi Arabia \n",
       "                               1                                1 \n",
       "                         Senegal                           Serbia \n",
       "                               1                                1 \n",
       "                      Seychelles                     Sierra Leone \n",
       "                               1                                1 \n",
       "                       Singapore                         Slovakia \n",
       "                               1                                1 \n",
       "                        Slovenia                          Somalia \n",
       "                               1                                1 \n",
       "                    South Africa                      South Sudan \n",
       "                               1                                1 \n",
       "                           Spain                        Sri Lanka \n",
       "                               1                                1 \n",
       "                           Sudan                         Suriname \n",
       "                               1                                1 \n",
       "                          Sweden                      Switzerland \n",
       "                               1                                1 \n",
       "                           Syria                          Taiwan* \n",
       "                               1                                1 \n",
       "                        Tanzania                         Thailand \n",
       "                               1                                1 \n",
       "                     Timor-Leste                             Togo \n",
       "                               1                                1 \n",
       "             Trinidad and Tobago                          Tunisia \n",
       "                               1                                1 \n",
       "                          Turkey                           Uganda \n",
       "                               1                                1 \n",
       "                         Ukraine             United Arab Emirates \n",
       "                               1                                1 \n",
       "                  United Kingdom                          Uruguay \n",
       "                              11                                1 \n",
       "                              US                       Uzbekistan \n",
       "                               1                                1 \n",
       "                       Venezuela                          Vietnam \n",
       "                               1                                1 \n",
       "              West Bank and Gaza                   Western Sahara \n",
       "                               1                                1 \n",
       "                           Yemen                           Zambia \n",
       "                               1                                1 \n",
       "                        Zimbabwe \n",
       "                               1 "
      ]
     },
     "metadata": {},
     "output_type": "display_data"
    }
   ],
   "source": [
    "# Da biste izdvojili kolonu Country.Region iz tabele de kucajte de$Country.Region.\n",
    "table(de$Country.Region)"
   ]
  },
  {
   "cell_type": "markdown",
   "metadata": {},
   "source": [
    "Ako hoćemo da prikažemo i uporedimo podatke po zemljama onda je potrebno da agregiramo podatke za one zemlje gde su podaci dati za manje administrativne jedinice. Funkcija `aggregate` nam daje mogućnost da prođemo kroz celu listu podoblasti i sve ih saberemo. Naravno, prvo bi trebalo iz tabele izbaciti podatke koje ne treba da sabiramo (ime provincije, ime države, latituda i longituda), tj. prve četiri kolone. Iz tabele __co__ prve četiri kolone brišemo tako što u indeks kolone stavimo -(1:4). Isto treba da uradimo i za __de__ i __re__."
   ]
  },
  {
   "cell_type": "code",
   "execution_count": 7,
   "metadata": {},
   "outputs": [],
   "source": [
    "coc=co[,-(1:4)]"
   ]
  },
  {
   "cell_type": "code",
   "execution_count": 8,
   "metadata": {},
   "outputs": [],
   "source": [
    "cod=aggregate(coc,list(co$Country.Region),sum)"
   ]
  },
  {
   "cell_type": "markdown",
   "metadata": {},
   "source": [
    "Od tabele __co__ pravimo dve __coc__ u kojima nema prve četiri kolone, i __cod__ u kojima su podaci agregirani po državama. Slično ćemo uraditi i za tabele __de__ i __re__."
   ]
  },
  {
   "cell_type": "code",
   "execution_count": 9,
   "metadata": {},
   "outputs": [
    {
     "data": {
      "text/html": [
       "<style>\n",
       ".list-inline {list-style: none; margin:0; padding: 0}\n",
       ".list-inline>li {display: inline-block}\n",
       ".list-inline>li:not(:last-child)::after {content: \"\\00b7\"; padding: 0 .5ex}\n",
       "</style>\n",
       "<ol class=list-inline><li>185</li><li>89</li></ol>\n"
      ],
      "text/latex": [
       "\\begin{enumerate*}\n",
       "\\item 185\n",
       "\\item 89\n",
       "\\end{enumerate*}\n"
      ],
      "text/markdown": [
       "1. 185\n",
       "2. 89\n",
       "\n",
       "\n"
      ],
      "text/plain": [
       "[1] 185  89"
      ]
     },
     "metadata": {},
     "output_type": "display_data"
    }
   ],
   "source": [
    "dim(cod)"
   ]
  },
  {
   "cell_type": "code",
   "execution_count": 10,
   "metadata": {},
   "outputs": [
    {
     "data": {
      "text/html": [
       "<table>\n",
       "<caption>A data.frame: 20 × 89</caption>\n",
       "<thead>\n",
       "\t<tr><th></th><th scope=col>Group.1</th><th scope=col>X1.22.20</th><th scope=col>X1.23.20</th><th scope=col>X1.24.20</th><th scope=col>X1.25.20</th><th scope=col>X1.26.20</th><th scope=col>X1.27.20</th><th scope=col>X1.28.20</th><th scope=col>X1.29.20</th><th scope=col>X1.30.20</th><th scope=col>...</th><th scope=col>X4.9.20</th><th scope=col>X4.10.20</th><th scope=col>X4.11.20</th><th scope=col>X4.12.20</th><th scope=col>X4.13.20</th><th scope=col>X4.14.20</th><th scope=col>X4.15.20</th><th scope=col>X4.16.20</th><th scope=col>X4.17.20</th><th scope=col>X4.18.20</th></tr>\n",
       "\t<tr><th></th><th scope=col>&lt;chr&gt;</th><th scope=col>&lt;int&gt;</th><th scope=col>&lt;int&gt;</th><th scope=col>&lt;int&gt;</th><th scope=col>&lt;int&gt;</th><th scope=col>&lt;int&gt;</th><th scope=col>&lt;int&gt;</th><th scope=col>&lt;int&gt;</th><th scope=col>&lt;int&gt;</th><th scope=col>&lt;int&gt;</th><th scope=col>...</th><th scope=col>&lt;int&gt;</th><th scope=col>&lt;int&gt;</th><th scope=col>&lt;int&gt;</th><th scope=col>&lt;int&gt;</th><th scope=col>&lt;int&gt;</th><th scope=col>&lt;int&gt;</th><th scope=col>&lt;int&gt;</th><th scope=col>&lt;int&gt;</th><th scope=col>&lt;int&gt;</th><th scope=col>&lt;int&gt;</th></tr>\n",
       "</thead>\n",
       "<tbody>\n",
       "\t<tr><th scope=row>1</th><td>Afghanistan        </td><td>0</td><td>0</td><td>0</td><td>0</td><td>0</td><td>0</td><td>0</td><td>0</td><td>0</td><td>...</td><td>  484</td><td>  521</td><td>  555</td><td>  607</td><td>  665</td><td>  714</td><td>  784</td><td>  840</td><td>  906</td><td>  933</td></tr>\n",
       "\t<tr><th scope=row>2</th><td>Albania            </td><td>0</td><td>0</td><td>0</td><td>0</td><td>0</td><td>0</td><td>0</td><td>0</td><td>0</td><td>...</td><td>  409</td><td>  416</td><td>  433</td><td>  446</td><td>  467</td><td>  475</td><td>  494</td><td>  518</td><td>  539</td><td>  548</td></tr>\n",
       "\t<tr><th scope=row>3</th><td>Algeria            </td><td>0</td><td>0</td><td>0</td><td>0</td><td>0</td><td>0</td><td>0</td><td>0</td><td>0</td><td>...</td><td> 1666</td><td> 1761</td><td> 1825</td><td> 1914</td><td> 1983</td><td> 2070</td><td> 2160</td><td> 2268</td><td> 2418</td><td> 2534</td></tr>\n",
       "\t<tr><th scope=row>4</th><td>Andorra            </td><td>0</td><td>0</td><td>0</td><td>0</td><td>0</td><td>0</td><td>0</td><td>0</td><td>0</td><td>...</td><td>  583</td><td>  601</td><td>  601</td><td>  638</td><td>  646</td><td>  659</td><td>  673</td><td>  673</td><td>  696</td><td>  704</td></tr>\n",
       "\t<tr><th scope=row>5</th><td>Angola             </td><td>0</td><td>0</td><td>0</td><td>0</td><td>0</td><td>0</td><td>0</td><td>0</td><td>0</td><td>...</td><td>   19</td><td>   19</td><td>   19</td><td>   19</td><td>   19</td><td>   19</td><td>   19</td><td>   19</td><td>   19</td><td>   24</td></tr>\n",
       "\t<tr><th scope=row>6</th><td>Antigua and Barbuda</td><td>0</td><td>0</td><td>0</td><td>0</td><td>0</td><td>0</td><td>0</td><td>0</td><td>0</td><td>...</td><td>   19</td><td>   19</td><td>   21</td><td>   21</td><td>   23</td><td>   23</td><td>   23</td><td>   23</td><td>   23</td><td>   23</td></tr>\n",
       "\t<tr><th scope=row>7</th><td>Argentina          </td><td>0</td><td>0</td><td>0</td><td>0</td><td>0</td><td>0</td><td>0</td><td>0</td><td>0</td><td>...</td><td> 1795</td><td> 1975</td><td> 1975</td><td> 2142</td><td> 2208</td><td> 2277</td><td> 2443</td><td> 2571</td><td> 2669</td><td> 2758</td></tr>\n",
       "\t<tr><th scope=row>8</th><td>Armenia            </td><td>0</td><td>0</td><td>0</td><td>0</td><td>0</td><td>0</td><td>0</td><td>0</td><td>0</td><td>...</td><td>  921</td><td>  937</td><td>  967</td><td> 1013</td><td> 1039</td><td> 1067</td><td> 1111</td><td> 1159</td><td> 1201</td><td> 1248</td></tr>\n",
       "\t<tr><th scope=row>9</th><td>Australia          </td><td>0</td><td>0</td><td>0</td><td>0</td><td>4</td><td>5</td><td>5</td><td>6</td><td>9</td><td>...</td><td> 6108</td><td> 6215</td><td> 6303</td><td> 6315</td><td> 6351</td><td> 6415</td><td> 6440</td><td> 6462</td><td> 6522</td><td> 6547</td></tr>\n",
       "\t<tr><th scope=row>10</th><td>Austria            </td><td>0</td><td>0</td><td>0</td><td>0</td><td>0</td><td>0</td><td>0</td><td>0</td><td>0</td><td>...</td><td>13244</td><td>13555</td><td>13806</td><td>13945</td><td>14041</td><td>14226</td><td>14336</td><td>14476</td><td>14595</td><td>14671</td></tr>\n",
       "\t<tr><th scope=row>11</th><td>Azerbaijan         </td><td>0</td><td>0</td><td>0</td><td>0</td><td>0</td><td>0</td><td>0</td><td>0</td><td>0</td><td>...</td><td>  926</td><td>  991</td><td> 1058</td><td> 1098</td><td> 1148</td><td> 1197</td><td> 1253</td><td> 1283</td><td> 1340</td><td> 1373</td></tr>\n",
       "\t<tr><th scope=row>12</th><td>Bahamas            </td><td>0</td><td>0</td><td>0</td><td>0</td><td>0</td><td>0</td><td>0</td><td>0</td><td>0</td><td>...</td><td>   41</td><td>   42</td><td>   46</td><td>   46</td><td>   47</td><td>   49</td><td>   49</td><td>   53</td><td>   54</td><td>   55</td></tr>\n",
       "\t<tr><th scope=row>13</th><td>Bahrain            </td><td>0</td><td>0</td><td>0</td><td>0</td><td>0</td><td>0</td><td>0</td><td>0</td><td>0</td><td>...</td><td>  887</td><td>  925</td><td> 1040</td><td> 1136</td><td> 1361</td><td> 1528</td><td> 1671</td><td> 1700</td><td> 1740</td><td> 1773</td></tr>\n",
       "\t<tr><th scope=row>14</th><td>Bangladesh         </td><td>0</td><td>0</td><td>0</td><td>0</td><td>0</td><td>0</td><td>0</td><td>0</td><td>0</td><td>...</td><td>  330</td><td>  424</td><td>  482</td><td>  621</td><td>  803</td><td> 1012</td><td> 1231</td><td> 1572</td><td> 1838</td><td> 2144</td></tr>\n",
       "\t<tr><th scope=row>15</th><td>Barbados           </td><td>0</td><td>0</td><td>0</td><td>0</td><td>0</td><td>0</td><td>0</td><td>0</td><td>0</td><td>...</td><td>   66</td><td>   67</td><td>   68</td><td>   71</td><td>   72</td><td>   72</td><td>   73</td><td>   75</td><td>   75</td><td>   75</td></tr>\n",
       "\t<tr><th scope=row>16</th><td>Belarus            </td><td>0</td><td>0</td><td>0</td><td>0</td><td>0</td><td>0</td><td>0</td><td>0</td><td>0</td><td>...</td><td> 1486</td><td> 1981</td><td> 2226</td><td> 2578</td><td> 2919</td><td> 3281</td><td> 3728</td><td> 4204</td><td> 4779</td><td> 4779</td></tr>\n",
       "\t<tr><th scope=row>17</th><td>Belgium            </td><td>0</td><td>0</td><td>0</td><td>0</td><td>0</td><td>0</td><td>0</td><td>0</td><td>0</td><td>...</td><td>24983</td><td>26667</td><td>28018</td><td>29647</td><td>30589</td><td>31119</td><td>33573</td><td>34809</td><td>36138</td><td>37183</td></tr>\n",
       "\t<tr><th scope=row>18</th><td>Belize             </td><td>0</td><td>0</td><td>0</td><td>0</td><td>0</td><td>0</td><td>0</td><td>0</td><td>0</td><td>...</td><td>    9</td><td>   10</td><td>   13</td><td>   14</td><td>   18</td><td>   18</td><td>   18</td><td>   18</td><td>   18</td><td>   18</td></tr>\n",
       "\t<tr><th scope=row>19</th><td>Benin              </td><td>0</td><td>0</td><td>0</td><td>0</td><td>0</td><td>0</td><td>0</td><td>0</td><td>0</td><td>...</td><td>   26</td><td>   35</td><td>   35</td><td>   35</td><td>   35</td><td>   35</td><td>   35</td><td>   35</td><td>   35</td><td>   35</td></tr>\n",
       "\t<tr><th scope=row>20</th><td>Bhutan             </td><td>0</td><td>0</td><td>0</td><td>0</td><td>0</td><td>0</td><td>0</td><td>0</td><td>0</td><td>...</td><td>    5</td><td>    5</td><td>    5</td><td>    5</td><td>    5</td><td>    5</td><td>    5</td><td>    5</td><td>    5</td><td>    5</td></tr>\n",
       "</tbody>\n",
       "</table>\n"
      ],
      "text/latex": [
       "A data.frame: 20 × 89\n",
       "\\begin{tabular}{r|lllllllllllllllllllll}\n",
       "  & Group.1 & X1.22.20 & X1.23.20 & X1.24.20 & X1.25.20 & X1.26.20 & X1.27.20 & X1.28.20 & X1.29.20 & X1.30.20 & ... & X4.9.20 & X4.10.20 & X4.11.20 & X4.12.20 & X4.13.20 & X4.14.20 & X4.15.20 & X4.16.20 & X4.17.20 & X4.18.20\\\\\n",
       "  & <chr> & <int> & <int> & <int> & <int> & <int> & <int> & <int> & <int> & <int> & ... & <int> & <int> & <int> & <int> & <int> & <int> & <int> & <int> & <int> & <int>\\\\\n",
       "\\hline\n",
       "\t1 & Afghanistan         & 0 & 0 & 0 & 0 & 0 & 0 & 0 & 0 & 0 & ... &   484 &   521 &   555 &   607 &   665 &   714 &   784 &   840 &   906 &   933\\\\\n",
       "\t2 & Albania             & 0 & 0 & 0 & 0 & 0 & 0 & 0 & 0 & 0 & ... &   409 &   416 &   433 &   446 &   467 &   475 &   494 &   518 &   539 &   548\\\\\n",
       "\t3 & Algeria             & 0 & 0 & 0 & 0 & 0 & 0 & 0 & 0 & 0 & ... &  1666 &  1761 &  1825 &  1914 &  1983 &  2070 &  2160 &  2268 &  2418 &  2534\\\\\n",
       "\t4 & Andorra             & 0 & 0 & 0 & 0 & 0 & 0 & 0 & 0 & 0 & ... &   583 &   601 &   601 &   638 &   646 &   659 &   673 &   673 &   696 &   704\\\\\n",
       "\t5 & Angola              & 0 & 0 & 0 & 0 & 0 & 0 & 0 & 0 & 0 & ... &    19 &    19 &    19 &    19 &    19 &    19 &    19 &    19 &    19 &    24\\\\\n",
       "\t6 & Antigua and Barbuda & 0 & 0 & 0 & 0 & 0 & 0 & 0 & 0 & 0 & ... &    19 &    19 &    21 &    21 &    23 &    23 &    23 &    23 &    23 &    23\\\\\n",
       "\t7 & Argentina           & 0 & 0 & 0 & 0 & 0 & 0 & 0 & 0 & 0 & ... &  1795 &  1975 &  1975 &  2142 &  2208 &  2277 &  2443 &  2571 &  2669 &  2758\\\\\n",
       "\t8 & Armenia             & 0 & 0 & 0 & 0 & 0 & 0 & 0 & 0 & 0 & ... &   921 &   937 &   967 &  1013 &  1039 &  1067 &  1111 &  1159 &  1201 &  1248\\\\\n",
       "\t9 & Australia           & 0 & 0 & 0 & 0 & 4 & 5 & 5 & 6 & 9 & ... &  6108 &  6215 &  6303 &  6315 &  6351 &  6415 &  6440 &  6462 &  6522 &  6547\\\\\n",
       "\t10 & Austria             & 0 & 0 & 0 & 0 & 0 & 0 & 0 & 0 & 0 & ... & 13244 & 13555 & 13806 & 13945 & 14041 & 14226 & 14336 & 14476 & 14595 & 14671\\\\\n",
       "\t11 & Azerbaijan          & 0 & 0 & 0 & 0 & 0 & 0 & 0 & 0 & 0 & ... &   926 &   991 &  1058 &  1098 &  1148 &  1197 &  1253 &  1283 &  1340 &  1373\\\\\n",
       "\t12 & Bahamas             & 0 & 0 & 0 & 0 & 0 & 0 & 0 & 0 & 0 & ... &    41 &    42 &    46 &    46 &    47 &    49 &    49 &    53 &    54 &    55\\\\\n",
       "\t13 & Bahrain             & 0 & 0 & 0 & 0 & 0 & 0 & 0 & 0 & 0 & ... &   887 &   925 &  1040 &  1136 &  1361 &  1528 &  1671 &  1700 &  1740 &  1773\\\\\n",
       "\t14 & Bangladesh          & 0 & 0 & 0 & 0 & 0 & 0 & 0 & 0 & 0 & ... &   330 &   424 &   482 &   621 &   803 &  1012 &  1231 &  1572 &  1838 &  2144\\\\\n",
       "\t15 & Barbados            & 0 & 0 & 0 & 0 & 0 & 0 & 0 & 0 & 0 & ... &    66 &    67 &    68 &    71 &    72 &    72 &    73 &    75 &    75 &    75\\\\\n",
       "\t16 & Belarus             & 0 & 0 & 0 & 0 & 0 & 0 & 0 & 0 & 0 & ... &  1486 &  1981 &  2226 &  2578 &  2919 &  3281 &  3728 &  4204 &  4779 &  4779\\\\\n",
       "\t17 & Belgium             & 0 & 0 & 0 & 0 & 0 & 0 & 0 & 0 & 0 & ... & 24983 & 26667 & 28018 & 29647 & 30589 & 31119 & 33573 & 34809 & 36138 & 37183\\\\\n",
       "\t18 & Belize              & 0 & 0 & 0 & 0 & 0 & 0 & 0 & 0 & 0 & ... &     9 &    10 &    13 &    14 &    18 &    18 &    18 &    18 &    18 &    18\\\\\n",
       "\t19 & Benin               & 0 & 0 & 0 & 0 & 0 & 0 & 0 & 0 & 0 & ... &    26 &    35 &    35 &    35 &    35 &    35 &    35 &    35 &    35 &    35\\\\\n",
       "\t20 & Bhutan              & 0 & 0 & 0 & 0 & 0 & 0 & 0 & 0 & 0 & ... &     5 &     5 &     5 &     5 &     5 &     5 &     5 &     5 &     5 &     5\\\\\n",
       "\\end{tabular}\n"
      ],
      "text/markdown": [
       "\n",
       "A data.frame: 20 × 89\n",
       "\n",
       "| <!--/--> | Group.1 &lt;chr&gt; | X1.22.20 &lt;int&gt; | X1.23.20 &lt;int&gt; | X1.24.20 &lt;int&gt; | X1.25.20 &lt;int&gt; | X1.26.20 &lt;int&gt; | X1.27.20 &lt;int&gt; | X1.28.20 &lt;int&gt; | X1.29.20 &lt;int&gt; | X1.30.20 &lt;int&gt; | ... ... | X4.9.20 &lt;int&gt; | X4.10.20 &lt;int&gt; | X4.11.20 &lt;int&gt; | X4.12.20 &lt;int&gt; | X4.13.20 &lt;int&gt; | X4.14.20 &lt;int&gt; | X4.15.20 &lt;int&gt; | X4.16.20 &lt;int&gt; | X4.17.20 &lt;int&gt; | X4.18.20 &lt;int&gt; |\n",
       "|---|---|---|---|---|---|---|---|---|---|---|---|---|---|---|---|---|---|---|---|---|---|\n",
       "| 1 | Afghanistan         | 0 | 0 | 0 | 0 | 0 | 0 | 0 | 0 | 0 | ... |   484 |   521 |   555 |   607 |   665 |   714 |   784 |   840 |   906 |   933 |\n",
       "| 2 | Albania             | 0 | 0 | 0 | 0 | 0 | 0 | 0 | 0 | 0 | ... |   409 |   416 |   433 |   446 |   467 |   475 |   494 |   518 |   539 |   548 |\n",
       "| 3 | Algeria             | 0 | 0 | 0 | 0 | 0 | 0 | 0 | 0 | 0 | ... |  1666 |  1761 |  1825 |  1914 |  1983 |  2070 |  2160 |  2268 |  2418 |  2534 |\n",
       "| 4 | Andorra             | 0 | 0 | 0 | 0 | 0 | 0 | 0 | 0 | 0 | ... |   583 |   601 |   601 |   638 |   646 |   659 |   673 |   673 |   696 |   704 |\n",
       "| 5 | Angola              | 0 | 0 | 0 | 0 | 0 | 0 | 0 | 0 | 0 | ... |    19 |    19 |    19 |    19 |    19 |    19 |    19 |    19 |    19 |    24 |\n",
       "| 6 | Antigua and Barbuda | 0 | 0 | 0 | 0 | 0 | 0 | 0 | 0 | 0 | ... |    19 |    19 |    21 |    21 |    23 |    23 |    23 |    23 |    23 |    23 |\n",
       "| 7 | Argentina           | 0 | 0 | 0 | 0 | 0 | 0 | 0 | 0 | 0 | ... |  1795 |  1975 |  1975 |  2142 |  2208 |  2277 |  2443 |  2571 |  2669 |  2758 |\n",
       "| 8 | Armenia             | 0 | 0 | 0 | 0 | 0 | 0 | 0 | 0 | 0 | ... |   921 |   937 |   967 |  1013 |  1039 |  1067 |  1111 |  1159 |  1201 |  1248 |\n",
       "| 9 | Australia           | 0 | 0 | 0 | 0 | 4 | 5 | 5 | 6 | 9 | ... |  6108 |  6215 |  6303 |  6315 |  6351 |  6415 |  6440 |  6462 |  6522 |  6547 |\n",
       "| 10 | Austria             | 0 | 0 | 0 | 0 | 0 | 0 | 0 | 0 | 0 | ... | 13244 | 13555 | 13806 | 13945 | 14041 | 14226 | 14336 | 14476 | 14595 | 14671 |\n",
       "| 11 | Azerbaijan          | 0 | 0 | 0 | 0 | 0 | 0 | 0 | 0 | 0 | ... |   926 |   991 |  1058 |  1098 |  1148 |  1197 |  1253 |  1283 |  1340 |  1373 |\n",
       "| 12 | Bahamas             | 0 | 0 | 0 | 0 | 0 | 0 | 0 | 0 | 0 | ... |    41 |    42 |    46 |    46 |    47 |    49 |    49 |    53 |    54 |    55 |\n",
       "| 13 | Bahrain             | 0 | 0 | 0 | 0 | 0 | 0 | 0 | 0 | 0 | ... |   887 |   925 |  1040 |  1136 |  1361 |  1528 |  1671 |  1700 |  1740 |  1773 |\n",
       "| 14 | Bangladesh          | 0 | 0 | 0 | 0 | 0 | 0 | 0 | 0 | 0 | ... |   330 |   424 |   482 |   621 |   803 |  1012 |  1231 |  1572 |  1838 |  2144 |\n",
       "| 15 | Barbados            | 0 | 0 | 0 | 0 | 0 | 0 | 0 | 0 | 0 | ... |    66 |    67 |    68 |    71 |    72 |    72 |    73 |    75 |    75 |    75 |\n",
       "| 16 | Belarus             | 0 | 0 | 0 | 0 | 0 | 0 | 0 | 0 | 0 | ... |  1486 |  1981 |  2226 |  2578 |  2919 |  3281 |  3728 |  4204 |  4779 |  4779 |\n",
       "| 17 | Belgium             | 0 | 0 | 0 | 0 | 0 | 0 | 0 | 0 | 0 | ... | 24983 | 26667 | 28018 | 29647 | 30589 | 31119 | 33573 | 34809 | 36138 | 37183 |\n",
       "| 18 | Belize              | 0 | 0 | 0 | 0 | 0 | 0 | 0 | 0 | 0 | ... |     9 |    10 |    13 |    14 |    18 |    18 |    18 |    18 |    18 |    18 |\n",
       "| 19 | Benin               | 0 | 0 | 0 | 0 | 0 | 0 | 0 | 0 | 0 | ... |    26 |    35 |    35 |    35 |    35 |    35 |    35 |    35 |    35 |    35 |\n",
       "| 20 | Bhutan              | 0 | 0 | 0 | 0 | 0 | 0 | 0 | 0 | 0 | ... |     5 |     5 |     5 |     5 |     5 |     5 |     5 |     5 |     5 |     5 |\n",
       "\n"
      ],
      "text/plain": [
       "   Group.1             X1.22.20 X1.23.20 X1.24.20 X1.25.20 X1.26.20 X1.27.20\n",
       "1  Afghanistan         0        0        0        0        0        0       \n",
       "2  Albania             0        0        0        0        0        0       \n",
       "3  Algeria             0        0        0        0        0        0       \n",
       "4  Andorra             0        0        0        0        0        0       \n",
       "5  Angola              0        0        0        0        0        0       \n",
       "6  Antigua and Barbuda 0        0        0        0        0        0       \n",
       "7  Argentina           0        0        0        0        0        0       \n",
       "8  Armenia             0        0        0        0        0        0       \n",
       "9  Australia           0        0        0        0        4        5       \n",
       "10 Austria             0        0        0        0        0        0       \n",
       "11 Azerbaijan          0        0        0        0        0        0       \n",
       "12 Bahamas             0        0        0        0        0        0       \n",
       "13 Bahrain             0        0        0        0        0        0       \n",
       "14 Bangladesh          0        0        0        0        0        0       \n",
       "15 Barbados            0        0        0        0        0        0       \n",
       "16 Belarus             0        0        0        0        0        0       \n",
       "17 Belgium             0        0        0        0        0        0       \n",
       "18 Belize              0        0        0        0        0        0       \n",
       "19 Benin               0        0        0        0        0        0       \n",
       "20 Bhutan              0        0        0        0        0        0       \n",
       "   X1.28.20 X1.29.20 X1.30.20 ... X4.9.20 X4.10.20 X4.11.20 X4.12.20 X4.13.20\n",
       "1  0        0        0        ...   484     521      555      607      665   \n",
       "2  0        0        0        ...   409     416      433      446      467   \n",
       "3  0        0        0        ...  1666    1761     1825     1914     1983   \n",
       "4  0        0        0        ...   583     601      601      638      646   \n",
       "5  0        0        0        ...    19      19       19       19       19   \n",
       "6  0        0        0        ...    19      19       21       21       23   \n",
       "7  0        0        0        ...  1795    1975     1975     2142     2208   \n",
       "8  0        0        0        ...   921     937      967     1013     1039   \n",
       "9  5        6        9        ...  6108    6215     6303     6315     6351   \n",
       "10 0        0        0        ... 13244   13555    13806    13945    14041   \n",
       "11 0        0        0        ...   926     991     1058     1098     1148   \n",
       "12 0        0        0        ...    41      42       46       46       47   \n",
       "13 0        0        0        ...   887     925     1040     1136     1361   \n",
       "14 0        0        0        ...   330     424      482      621      803   \n",
       "15 0        0        0        ...    66      67       68       71       72   \n",
       "16 0        0        0        ...  1486    1981     2226     2578     2919   \n",
       "17 0        0        0        ... 24983   26667    28018    29647    30589   \n",
       "18 0        0        0        ...     9      10       13       14       18   \n",
       "19 0        0        0        ...    26      35       35       35       35   \n",
       "20 0        0        0        ...     5       5        5        5        5   \n",
       "   X4.14.20 X4.15.20 X4.16.20 X4.17.20 X4.18.20\n",
       "1    714      784      840      906      933   \n",
       "2    475      494      518      539      548   \n",
       "3   2070     2160     2268     2418     2534   \n",
       "4    659      673      673      696      704   \n",
       "5     19       19       19       19       24   \n",
       "6     23       23       23       23       23   \n",
       "7   2277     2443     2571     2669     2758   \n",
       "8   1067     1111     1159     1201     1248   \n",
       "9   6415     6440     6462     6522     6547   \n",
       "10 14226    14336    14476    14595    14671   \n",
       "11  1197     1253     1283     1340     1373   \n",
       "12    49       49       53       54       55   \n",
       "13  1528     1671     1700     1740     1773   \n",
       "14  1012     1231     1572     1838     2144   \n",
       "15    72       73       75       75       75   \n",
       "16  3281     3728     4204     4779     4779   \n",
       "17 31119    33573    34809    36138    37183   \n",
       "18    18       18       18       18       18   \n",
       "19    35       35       35       35       35   \n",
       "20     5        5        5        5        5   "
      ]
     },
     "metadata": {},
     "output_type": "display_data"
    }
   ],
   "source": [
    "head(cod,20)"
   ]
  },
  {
   "cell_type": "code",
   "execution_count": 11,
   "metadata": {},
   "outputs": [],
   "source": [
    "dec=de[,-(1:4)]\n",
    "ded=aggregate(dec,list(de$Country.Region),sum)"
   ]
  },
  {
   "cell_type": "code",
   "execution_count": 12,
   "metadata": {},
   "outputs": [],
   "source": [
    "rec=re[,-(1:4)]\n",
    "red=aggregate(rec,list(re$Country.Region),sum)"
   ]
  },
  {
   "cell_type": "code",
   "execution_count": 13,
   "metadata": {},
   "outputs": [
    {
     "data": {
      "text/html": [
       "<style>\n",
       ".list-inline {list-style: none; margin:0; padding: 0}\n",
       ".list-inline>li {display: inline-block}\n",
       ".list-inline>li:not(:last-child)::after {content: \"\\00b7\"; padding: 0 .5ex}\n",
       "</style>\n",
       "<ol class=list-inline><li>185</li><li>89</li></ol>\n"
      ],
      "text/latex": [
       "\\begin{enumerate*}\n",
       "\\item 185\n",
       "\\item 89\n",
       "\\end{enumerate*}\n"
      ],
      "text/markdown": [
       "1. 185\n",
       "2. 89\n",
       "\n",
       "\n"
      ],
      "text/plain": [
       "[1] 185  89"
      ]
     },
     "metadata": {},
     "output_type": "display_data"
    }
   ],
   "source": [
    "dim(ded)"
   ]
  },
  {
   "cell_type": "markdown",
   "metadata": {},
   "source": [
    "Pretpostavljamo da su podaci za __cod__, __ded__ i __red__ sortirani na isti način, prema imenu države, ali nije loše da to proverimo. Vizuelno, možemo da ispišemo imena država iz sve tri tabele jednu pored druge pa da vidimo da li se svugde poklapaju. Funkcija `cbind` nam omogućava da spojimo kolone.  "
   ]
  },
  {
   "cell_type": "code",
   "execution_count": 14,
   "metadata": {},
   "outputs": [
    {
     "data": {
      "text/html": [
       "<table>\n",
       "<caption>A matrix: 185 × 3 of type chr</caption>\n",
       "<tbody>\n",
       "\t<tr><td>Afghanistan           </td><td>Afghanistan           </td><td>Afghanistan           </td></tr>\n",
       "\t<tr><td>Albania               </td><td>Albania               </td><td>Albania               </td></tr>\n",
       "\t<tr><td>Algeria               </td><td>Algeria               </td><td>Algeria               </td></tr>\n",
       "\t<tr><td>Andorra               </td><td>Andorra               </td><td>Andorra               </td></tr>\n",
       "\t<tr><td>Angola                </td><td>Angola                </td><td>Angola                </td></tr>\n",
       "\t<tr><td>Antigua and Barbuda   </td><td>Antigua and Barbuda   </td><td>Antigua and Barbuda   </td></tr>\n",
       "\t<tr><td>Argentina             </td><td>Argentina             </td><td>Argentina             </td></tr>\n",
       "\t<tr><td>Armenia               </td><td>Armenia               </td><td>Armenia               </td></tr>\n",
       "\t<tr><td>Australia             </td><td>Australia             </td><td>Australia             </td></tr>\n",
       "\t<tr><td>Austria               </td><td>Austria               </td><td>Austria               </td></tr>\n",
       "\t<tr><td>Azerbaijan            </td><td>Azerbaijan            </td><td>Azerbaijan            </td></tr>\n",
       "\t<tr><td>Bahamas               </td><td>Bahamas               </td><td>Bahamas               </td></tr>\n",
       "\t<tr><td>Bahrain               </td><td>Bahrain               </td><td>Bahrain               </td></tr>\n",
       "\t<tr><td>Bangladesh            </td><td>Bangladesh            </td><td>Bangladesh            </td></tr>\n",
       "\t<tr><td>Barbados              </td><td>Barbados              </td><td>Barbados              </td></tr>\n",
       "\t<tr><td>Belarus               </td><td>Belarus               </td><td>Belarus               </td></tr>\n",
       "\t<tr><td>Belgium               </td><td>Belgium               </td><td>Belgium               </td></tr>\n",
       "\t<tr><td>Belize                </td><td>Belize                </td><td>Belize                </td></tr>\n",
       "\t<tr><td>Benin                 </td><td>Benin                 </td><td>Benin                 </td></tr>\n",
       "\t<tr><td>Bhutan                </td><td>Bhutan                </td><td>Bhutan                </td></tr>\n",
       "\t<tr><td>Bolivia               </td><td>Bolivia               </td><td>Bolivia               </td></tr>\n",
       "\t<tr><td>Bosnia and Herzegovina</td><td>Bosnia and Herzegovina</td><td>Bosnia and Herzegovina</td></tr>\n",
       "\t<tr><td>Botswana              </td><td>Botswana              </td><td>Botswana              </td></tr>\n",
       "\t<tr><td>Brazil                </td><td>Brazil                </td><td>Brazil                </td></tr>\n",
       "\t<tr><td>Brunei                </td><td>Brunei                </td><td>Brunei                </td></tr>\n",
       "\t<tr><td>Bulgaria              </td><td>Bulgaria              </td><td>Bulgaria              </td></tr>\n",
       "\t<tr><td>Burkina Faso          </td><td>Burkina Faso          </td><td>Burkina Faso          </td></tr>\n",
       "\t<tr><td>Burma                 </td><td>Burma                 </td><td>Burma                 </td></tr>\n",
       "\t<tr><td>Burundi               </td><td>Burundi               </td><td>Burundi               </td></tr>\n",
       "\t<tr><td>Cabo Verde            </td><td>Cabo Verde            </td><td>Cabo Verde            </td></tr>\n",
       "\t<tr><td>...</td><td>...</td><td>...</td></tr>\n",
       "\t<tr><td>South Sudan         </td><td>South Sudan         </td><td>South Sudan         </td></tr>\n",
       "\t<tr><td>Spain               </td><td>Spain               </td><td>Spain               </td></tr>\n",
       "\t<tr><td>Sri Lanka           </td><td>Sri Lanka           </td><td>Sri Lanka           </td></tr>\n",
       "\t<tr><td>Sudan               </td><td>Sudan               </td><td>Sudan               </td></tr>\n",
       "\t<tr><td>Suriname            </td><td>Suriname            </td><td>Suriname            </td></tr>\n",
       "\t<tr><td>Sweden              </td><td>Sweden              </td><td>Sweden              </td></tr>\n",
       "\t<tr><td>Switzerland         </td><td>Switzerland         </td><td>Switzerland         </td></tr>\n",
       "\t<tr><td>Syria               </td><td>Syria               </td><td>Syria               </td></tr>\n",
       "\t<tr><td>Taiwan*             </td><td>Taiwan*             </td><td>Taiwan*             </td></tr>\n",
       "\t<tr><td>Tanzania            </td><td>Tanzania            </td><td>Tanzania            </td></tr>\n",
       "\t<tr><td>Thailand            </td><td>Thailand            </td><td>Thailand            </td></tr>\n",
       "\t<tr><td>Timor-Leste         </td><td>Timor-Leste         </td><td>Timor-Leste         </td></tr>\n",
       "\t<tr><td>Togo                </td><td>Togo                </td><td>Togo                </td></tr>\n",
       "\t<tr><td>Trinidad and Tobago </td><td>Trinidad and Tobago </td><td>Trinidad and Tobago </td></tr>\n",
       "\t<tr><td>Tunisia             </td><td>Tunisia             </td><td>Tunisia             </td></tr>\n",
       "\t<tr><td>Turkey              </td><td>Turkey              </td><td>Turkey              </td></tr>\n",
       "\t<tr><td>Uganda              </td><td>Uganda              </td><td>Uganda              </td></tr>\n",
       "\t<tr><td>Ukraine             </td><td>Ukraine             </td><td>Ukraine             </td></tr>\n",
       "\t<tr><td>United Arab Emirates</td><td>United Arab Emirates</td><td>United Arab Emirates</td></tr>\n",
       "\t<tr><td>United Kingdom      </td><td>United Kingdom      </td><td>United Kingdom      </td></tr>\n",
       "\t<tr><td>Uruguay             </td><td>Uruguay             </td><td>Uruguay             </td></tr>\n",
       "\t<tr><td>US                  </td><td>US                  </td><td>US                  </td></tr>\n",
       "\t<tr><td>Uzbekistan          </td><td>Uzbekistan          </td><td>Uzbekistan          </td></tr>\n",
       "\t<tr><td>Venezuela           </td><td>Venezuela           </td><td>Venezuela           </td></tr>\n",
       "\t<tr><td>Vietnam             </td><td>Vietnam             </td><td>Vietnam             </td></tr>\n",
       "\t<tr><td>West Bank and Gaza  </td><td>West Bank and Gaza  </td><td>West Bank and Gaza  </td></tr>\n",
       "\t<tr><td>Western Sahara      </td><td>Western Sahara      </td><td>Western Sahara      </td></tr>\n",
       "\t<tr><td>Yemen               </td><td>Yemen               </td><td>Yemen               </td></tr>\n",
       "\t<tr><td>Zambia              </td><td>Zambia              </td><td>Zambia              </td></tr>\n",
       "\t<tr><td>Zimbabwe            </td><td>Zimbabwe            </td><td>Zimbabwe            </td></tr>\n",
       "</tbody>\n",
       "</table>\n"
      ],
      "text/latex": [
       "A matrix: 185 × 3 of type chr\n",
       "\\begin{tabular}{lll}\n",
       "\t Afghanistan            & Afghanistan            & Afghanistan           \\\\\n",
       "\t Albania                & Albania                & Albania               \\\\\n",
       "\t Algeria                & Algeria                & Algeria               \\\\\n",
       "\t Andorra                & Andorra                & Andorra               \\\\\n",
       "\t Angola                 & Angola                 & Angola                \\\\\n",
       "\t Antigua and Barbuda    & Antigua and Barbuda    & Antigua and Barbuda   \\\\\n",
       "\t Argentina              & Argentina              & Argentina             \\\\\n",
       "\t Armenia                & Armenia                & Armenia               \\\\\n",
       "\t Australia              & Australia              & Australia             \\\\\n",
       "\t Austria                & Austria                & Austria               \\\\\n",
       "\t Azerbaijan             & Azerbaijan             & Azerbaijan            \\\\\n",
       "\t Bahamas                & Bahamas                & Bahamas               \\\\\n",
       "\t Bahrain                & Bahrain                & Bahrain               \\\\\n",
       "\t Bangladesh             & Bangladesh             & Bangladesh            \\\\\n",
       "\t Barbados               & Barbados               & Barbados              \\\\\n",
       "\t Belarus                & Belarus                & Belarus               \\\\\n",
       "\t Belgium                & Belgium                & Belgium               \\\\\n",
       "\t Belize                 & Belize                 & Belize                \\\\\n",
       "\t Benin                  & Benin                  & Benin                 \\\\\n",
       "\t Bhutan                 & Bhutan                 & Bhutan                \\\\\n",
       "\t Bolivia                & Bolivia                & Bolivia               \\\\\n",
       "\t Bosnia and Herzegovina & Bosnia and Herzegovina & Bosnia and Herzegovina\\\\\n",
       "\t Botswana               & Botswana               & Botswana              \\\\\n",
       "\t Brazil                 & Brazil                 & Brazil                \\\\\n",
       "\t Brunei                 & Brunei                 & Brunei                \\\\\n",
       "\t Bulgaria               & Bulgaria               & Bulgaria              \\\\\n",
       "\t Burkina Faso           & Burkina Faso           & Burkina Faso          \\\\\n",
       "\t Burma                  & Burma                  & Burma                 \\\\\n",
       "\t Burundi                & Burundi                & Burundi               \\\\\n",
       "\t Cabo Verde             & Cabo Verde             & Cabo Verde            \\\\\n",
       "\t ... & ... & ...\\\\\n",
       "\t South Sudan          & South Sudan          & South Sudan         \\\\\n",
       "\t Spain                & Spain                & Spain               \\\\\n",
       "\t Sri Lanka            & Sri Lanka            & Sri Lanka           \\\\\n",
       "\t Sudan                & Sudan                & Sudan               \\\\\n",
       "\t Suriname             & Suriname             & Suriname            \\\\\n",
       "\t Sweden               & Sweden               & Sweden              \\\\\n",
       "\t Switzerland          & Switzerland          & Switzerland         \\\\\n",
       "\t Syria                & Syria                & Syria               \\\\\n",
       "\t Taiwan*              & Taiwan*              & Taiwan*             \\\\\n",
       "\t Tanzania             & Tanzania             & Tanzania            \\\\\n",
       "\t Thailand             & Thailand             & Thailand            \\\\\n",
       "\t Timor-Leste          & Timor-Leste          & Timor-Leste         \\\\\n",
       "\t Togo                 & Togo                 & Togo                \\\\\n",
       "\t Trinidad and Tobago  & Trinidad and Tobago  & Trinidad and Tobago \\\\\n",
       "\t Tunisia              & Tunisia              & Tunisia             \\\\\n",
       "\t Turkey               & Turkey               & Turkey              \\\\\n",
       "\t Uganda               & Uganda               & Uganda              \\\\\n",
       "\t Ukraine              & Ukraine              & Ukraine             \\\\\n",
       "\t United Arab Emirates & United Arab Emirates & United Arab Emirates\\\\\n",
       "\t United Kingdom       & United Kingdom       & United Kingdom      \\\\\n",
       "\t Uruguay              & Uruguay              & Uruguay             \\\\\n",
       "\t US                   & US                   & US                  \\\\\n",
       "\t Uzbekistan           & Uzbekistan           & Uzbekistan          \\\\\n",
       "\t Venezuela            & Venezuela            & Venezuela           \\\\\n",
       "\t Vietnam              & Vietnam              & Vietnam             \\\\\n",
       "\t West Bank and Gaza   & West Bank and Gaza   & West Bank and Gaza  \\\\\n",
       "\t Western Sahara       & Western Sahara       & Western Sahara      \\\\\n",
       "\t Yemen                & Yemen                & Yemen               \\\\\n",
       "\t Zambia               & Zambia               & Zambia              \\\\\n",
       "\t Zimbabwe             & Zimbabwe             & Zimbabwe            \\\\\n",
       "\\end{tabular}\n"
      ],
      "text/markdown": [
       "\n",
       "A matrix: 185 × 3 of type chr\n",
       "\n",
       "| Afghanistan            | Afghanistan            | Afghanistan            |\n",
       "| Albania                | Albania                | Albania                |\n",
       "| Algeria                | Algeria                | Algeria                |\n",
       "| Andorra                | Andorra                | Andorra                |\n",
       "| Angola                 | Angola                 | Angola                 |\n",
       "| Antigua and Barbuda    | Antigua and Barbuda    | Antigua and Barbuda    |\n",
       "| Argentina              | Argentina              | Argentina              |\n",
       "| Armenia                | Armenia                | Armenia                |\n",
       "| Australia              | Australia              | Australia              |\n",
       "| Austria                | Austria                | Austria                |\n",
       "| Azerbaijan             | Azerbaijan             | Azerbaijan             |\n",
       "| Bahamas                | Bahamas                | Bahamas                |\n",
       "| Bahrain                | Bahrain                | Bahrain                |\n",
       "| Bangladesh             | Bangladesh             | Bangladesh             |\n",
       "| Barbados               | Barbados               | Barbados               |\n",
       "| Belarus                | Belarus                | Belarus                |\n",
       "| Belgium                | Belgium                | Belgium                |\n",
       "| Belize                 | Belize                 | Belize                 |\n",
       "| Benin                  | Benin                  | Benin                  |\n",
       "| Bhutan                 | Bhutan                 | Bhutan                 |\n",
       "| Bolivia                | Bolivia                | Bolivia                |\n",
       "| Bosnia and Herzegovina | Bosnia and Herzegovina | Bosnia and Herzegovina |\n",
       "| Botswana               | Botswana               | Botswana               |\n",
       "| Brazil                 | Brazil                 | Brazil                 |\n",
       "| Brunei                 | Brunei                 | Brunei                 |\n",
       "| Bulgaria               | Bulgaria               | Bulgaria               |\n",
       "| Burkina Faso           | Burkina Faso           | Burkina Faso           |\n",
       "| Burma                  | Burma                  | Burma                  |\n",
       "| Burundi                | Burundi                | Burundi                |\n",
       "| Cabo Verde             | Cabo Verde             | Cabo Verde             |\n",
       "| ... | ... | ... |\n",
       "| South Sudan          | South Sudan          | South Sudan          |\n",
       "| Spain                | Spain                | Spain                |\n",
       "| Sri Lanka            | Sri Lanka            | Sri Lanka            |\n",
       "| Sudan                | Sudan                | Sudan                |\n",
       "| Suriname             | Suriname             | Suriname             |\n",
       "| Sweden               | Sweden               | Sweden               |\n",
       "| Switzerland          | Switzerland          | Switzerland          |\n",
       "| Syria                | Syria                | Syria                |\n",
       "| Taiwan*              | Taiwan*              | Taiwan*              |\n",
       "| Tanzania             | Tanzania             | Tanzania             |\n",
       "| Thailand             | Thailand             | Thailand             |\n",
       "| Timor-Leste          | Timor-Leste          | Timor-Leste          |\n",
       "| Togo                 | Togo                 | Togo                 |\n",
       "| Trinidad and Tobago  | Trinidad and Tobago  | Trinidad and Tobago  |\n",
       "| Tunisia              | Tunisia              | Tunisia              |\n",
       "| Turkey               | Turkey               | Turkey               |\n",
       "| Uganda               | Uganda               | Uganda               |\n",
       "| Ukraine              | Ukraine              | Ukraine              |\n",
       "| United Arab Emirates | United Arab Emirates | United Arab Emirates |\n",
       "| United Kingdom       | United Kingdom       | United Kingdom       |\n",
       "| Uruguay              | Uruguay              | Uruguay              |\n",
       "| US                   | US                   | US                   |\n",
       "| Uzbekistan           | Uzbekistan           | Uzbekistan           |\n",
       "| Venezuela            | Venezuela            | Venezuela            |\n",
       "| Vietnam              | Vietnam              | Vietnam              |\n",
       "| West Bank and Gaza   | West Bank and Gaza   | West Bank and Gaza   |\n",
       "| Western Sahara       | Western Sahara       | Western Sahara       |\n",
       "| Yemen                | Yemen                | Yemen                |\n",
       "| Zambia               | Zambia               | Zambia               |\n",
       "| Zimbabwe             | Zimbabwe             | Zimbabwe             |\n",
       "\n"
      ],
      "text/plain": [
       "      [,1]                   [,2]                   [,3]                  \n",
       " [1,] Afghanistan            Afghanistan            Afghanistan           \n",
       " [2,] Albania                Albania                Albania               \n",
       " [3,] Algeria                Algeria                Algeria               \n",
       " [4,] Andorra                Andorra                Andorra               \n",
       " [5,] Angola                 Angola                 Angola                \n",
       " [6,] Antigua and Barbuda    Antigua and Barbuda    Antigua and Barbuda   \n",
       " [7,] Argentina              Argentina              Argentina             \n",
       " [8,] Armenia                Armenia                Armenia               \n",
       " [9,] Australia              Australia              Australia             \n",
       "[10,] Austria                Austria                Austria               \n",
       "[11,] Azerbaijan             Azerbaijan             Azerbaijan            \n",
       "[12,] Bahamas                Bahamas                Bahamas               \n",
       "[13,] Bahrain                Bahrain                Bahrain               \n",
       "[14,] Bangladesh             Bangladesh             Bangladesh            \n",
       "[15,] Barbados               Barbados               Barbados              \n",
       "[16,] Belarus                Belarus                Belarus               \n",
       "[17,] Belgium                Belgium                Belgium               \n",
       "[18,] Belize                 Belize                 Belize                \n",
       "[19,] Benin                  Benin                  Benin                 \n",
       "[20,] Bhutan                 Bhutan                 Bhutan                \n",
       "[21,] Bolivia                Bolivia                Bolivia               \n",
       "[22,] Bosnia and Herzegovina Bosnia and Herzegovina Bosnia and Herzegovina\n",
       "[23,] Botswana               Botswana               Botswana              \n",
       "[24,] Brazil                 Brazil                 Brazil                \n",
       "[25,] Brunei                 Brunei                 Brunei                \n",
       "[26,] Bulgaria               Bulgaria               Bulgaria              \n",
       "[27,] Burkina Faso           Burkina Faso           Burkina Faso          \n",
       "[28,] Burma                  Burma                  Burma                 \n",
       "[29,] Burundi                Burundi                Burundi               \n",
       "[30,] Cabo Verde             Cabo Verde             Cabo Verde            \n",
       "[31,] ...                    ...                    ...                   \n",
       "[32,] South Sudan            South Sudan            South Sudan           \n",
       "[33,] Spain                  Spain                  Spain                 \n",
       "[34,] Sri Lanka              Sri Lanka              Sri Lanka             \n",
       "[35,] Sudan                  Sudan                  Sudan                 \n",
       "[36,] Suriname               Suriname               Suriname              \n",
       "[37,] Sweden                 Sweden                 Sweden                \n",
       "[38,] Switzerland            Switzerland            Switzerland           \n",
       "[39,] Syria                  Syria                  Syria                 \n",
       "[40,] Taiwan*                Taiwan*                Taiwan*               \n",
       "[41,] Tanzania               Tanzania               Tanzania              \n",
       "[42,] Thailand               Thailand               Thailand              \n",
       "[43,] Timor-Leste            Timor-Leste            Timor-Leste           \n",
       "[44,] Togo                   Togo                   Togo                  \n",
       "[45,] Trinidad and Tobago    Trinidad and Tobago    Trinidad and Tobago   \n",
       "[46,] Tunisia                Tunisia                Tunisia               \n",
       "[47,] Turkey                 Turkey                 Turkey                \n",
       "[48,] Uganda                 Uganda                 Uganda                \n",
       "[49,] Ukraine                Ukraine                Ukraine               \n",
       "[50,] United Arab Emirates   United Arab Emirates   United Arab Emirates  \n",
       "[51,] United Kingdom         United Kingdom         United Kingdom        \n",
       "[52,] Uruguay                Uruguay                Uruguay               \n",
       "[53,] US                     US                     US                    \n",
       "[54,] Uzbekistan             Uzbekistan             Uzbekistan            \n",
       "[55,] Venezuela              Venezuela              Venezuela             \n",
       "[56,] Vietnam                Vietnam                Vietnam               \n",
       "[57,] West Bank and Gaza     West Bank and Gaza     West Bank and Gaza    \n",
       "[58,] Western Sahara         Western Sahara         Western Sahara        \n",
       "[59,] Yemen                  Yemen                  Yemen                 \n",
       "[60,] Zambia                 Zambia                 Zambia                \n",
       "[61,] Zimbabwe               Zimbabwe               Zimbabwe              "
      ]
     },
     "metadata": {},
     "output_type": "display_data"
    }
   ],
   "source": [
    "cbind(cod$Group.1,ded$Group.1,red$Group.1)"
   ]
  },
  {
   "cell_type": "markdown",
   "metadata": {},
   "source": [
    "Deluje da je sve u redu. Sada možemo da izračunamo broj aktivnih slučajeva po državama i danima tako što od broja potvrđenih slučajeva oduzmemo broj umrlih i broj oporavljenih: act=cod-ded-red. Mali problem predstavlja to što tabele imaju na početku kolonu sa imenima država, a imena se ne sabiraju. Najlakše je da isključimo tu prvu kolonu tako što u indeks kolone stavimo -1."
   ]
  },
  {
   "cell_type": "code",
   "execution_count": 15,
   "metadata": {},
   "outputs": [],
   "source": [
    "act=cod[,-1]-ded[,-1]-red[,-1]"
   ]
  },
  {
   "cell_type": "code",
   "execution_count": 16,
   "metadata": {},
   "outputs": [
    {
     "data": {
      "text/html": [
       "<table>\n",
       "<caption>A data.frame: 6 × 88</caption>\n",
       "<thead>\n",
       "\t<tr><th></th><th scope=col>X1.22.20</th><th scope=col>X1.23.20</th><th scope=col>X1.24.20</th><th scope=col>X1.25.20</th><th scope=col>X1.26.20</th><th scope=col>X1.27.20</th><th scope=col>X1.28.20</th><th scope=col>X1.29.20</th><th scope=col>X1.30.20</th><th scope=col>X1.31.20</th><th scope=col>...</th><th scope=col>X4.9.20</th><th scope=col>X4.10.20</th><th scope=col>X4.11.20</th><th scope=col>X4.12.20</th><th scope=col>X4.13.20</th><th scope=col>X4.14.20</th><th scope=col>X4.15.20</th><th scope=col>X4.16.20</th><th scope=col>X4.17.20</th><th scope=col>X4.18.20</th></tr>\n",
       "\t<tr><th></th><th scope=col>&lt;int&gt;</th><th scope=col>&lt;int&gt;</th><th scope=col>&lt;int&gt;</th><th scope=col>&lt;int&gt;</th><th scope=col>&lt;int&gt;</th><th scope=col>&lt;int&gt;</th><th scope=col>&lt;int&gt;</th><th scope=col>&lt;int&gt;</th><th scope=col>&lt;int&gt;</th><th scope=col>&lt;int&gt;</th><th scope=col>...</th><th scope=col>&lt;int&gt;</th><th scope=col>&lt;int&gt;</th><th scope=col>&lt;int&gt;</th><th scope=col>&lt;int&gt;</th><th scope=col>&lt;int&gt;</th><th scope=col>&lt;int&gt;</th><th scope=col>&lt;int&gt;</th><th scope=col>&lt;int&gt;</th><th scope=col>&lt;int&gt;</th><th scope=col>&lt;int&gt;</th></tr>\n",
       "</thead>\n",
       "<tbody>\n",
       "\t<tr><th scope=row>1</th><td>0</td><td>0</td><td>0</td><td>0</td><td>0</td><td>0</td><td>0</td><td>0</td><td>0</td><td>0</td><td>...</td><td> 437</td><td> 474</td><td> 505</td><td> 557</td><td> 612</td><td> 651</td><td> 716</td><td> 756</td><td> 777</td><td> 791</td></tr>\n",
       "\t<tr><th scope=row>2</th><td>0</td><td>0</td><td>0</td><td>0</td><td>0</td><td>0</td><td>0</td><td>0</td><td>0</td><td>0</td><td>...</td><td> 221</td><td> 211</td><td> 213</td><td> 206</td><td> 212</td><td> 203</td><td> 218</td><td> 215</td><td> 230</td><td> 220</td></tr>\n",
       "\t<tr><th scope=row>3</th><td>0</td><td>0</td><td>0</td><td>0</td><td>0</td><td>0</td><td>0</td><td>0</td><td>0</td><td>0</td><td>...</td><td>1084</td><td>1100</td><td>1090</td><td>1030</td><td>1069</td><td>1053</td><td>1116</td><td>1137</td><td>1208</td><td>1273</td></tr>\n",
       "\t<tr><th scope=row>4</th><td>0</td><td>0</td><td>0</td><td>0</td><td>0</td><td>0</td><td>0</td><td>0</td><td>0</td><td>0</td><td>...</td><td> 500</td><td> 504</td><td> 504</td><td> 481</td><td> 489</td><td> 500</td><td> 471</td><td> 471</td><td> 470</td><td> 464</td></tr>\n",
       "\t<tr><th scope=row>5</th><td>0</td><td>0</td><td>0</td><td>0</td><td>0</td><td>0</td><td>0</td><td>0</td><td>0</td><td>0</td><td>...</td><td>  15</td><td>  15</td><td>  13</td><td>  13</td><td>  13</td><td>  12</td><td>  12</td><td>  12</td><td>  12</td><td>  16</td></tr>\n",
       "\t<tr><th scope=row>6</th><td>0</td><td>0</td><td>0</td><td>0</td><td>0</td><td>0</td><td>0</td><td>0</td><td>0</td><td>0</td><td>...</td><td>  17</td><td>  17</td><td>  19</td><td>  19</td><td>  21</td><td>  18</td><td>  18</td><td>  17</td><td>  17</td><td>  17</td></tr>\n",
       "</tbody>\n",
       "</table>\n"
      ],
      "text/latex": [
       "A data.frame: 6 × 88\n",
       "\\begin{tabular}{r|lllllllllllllllllllll}\n",
       "  & X1.22.20 & X1.23.20 & X1.24.20 & X1.25.20 & X1.26.20 & X1.27.20 & X1.28.20 & X1.29.20 & X1.30.20 & X1.31.20 & ... & X4.9.20 & X4.10.20 & X4.11.20 & X4.12.20 & X4.13.20 & X4.14.20 & X4.15.20 & X4.16.20 & X4.17.20 & X4.18.20\\\\\n",
       "  & <int> & <int> & <int> & <int> & <int> & <int> & <int> & <int> & <int> & <int> & ... & <int> & <int> & <int> & <int> & <int> & <int> & <int> & <int> & <int> & <int>\\\\\n",
       "\\hline\n",
       "\t1 & 0 & 0 & 0 & 0 & 0 & 0 & 0 & 0 & 0 & 0 & ... &  437 &  474 &  505 &  557 &  612 &  651 &  716 &  756 &  777 &  791\\\\\n",
       "\t2 & 0 & 0 & 0 & 0 & 0 & 0 & 0 & 0 & 0 & 0 & ... &  221 &  211 &  213 &  206 &  212 &  203 &  218 &  215 &  230 &  220\\\\\n",
       "\t3 & 0 & 0 & 0 & 0 & 0 & 0 & 0 & 0 & 0 & 0 & ... & 1084 & 1100 & 1090 & 1030 & 1069 & 1053 & 1116 & 1137 & 1208 & 1273\\\\\n",
       "\t4 & 0 & 0 & 0 & 0 & 0 & 0 & 0 & 0 & 0 & 0 & ... &  500 &  504 &  504 &  481 &  489 &  500 &  471 &  471 &  470 &  464\\\\\n",
       "\t5 & 0 & 0 & 0 & 0 & 0 & 0 & 0 & 0 & 0 & 0 & ... &   15 &   15 &   13 &   13 &   13 &   12 &   12 &   12 &   12 &   16\\\\\n",
       "\t6 & 0 & 0 & 0 & 0 & 0 & 0 & 0 & 0 & 0 & 0 & ... &   17 &   17 &   19 &   19 &   21 &   18 &   18 &   17 &   17 &   17\\\\\n",
       "\\end{tabular}\n"
      ],
      "text/markdown": [
       "\n",
       "A data.frame: 6 × 88\n",
       "\n",
       "| <!--/--> | X1.22.20 &lt;int&gt; | X1.23.20 &lt;int&gt; | X1.24.20 &lt;int&gt; | X1.25.20 &lt;int&gt; | X1.26.20 &lt;int&gt; | X1.27.20 &lt;int&gt; | X1.28.20 &lt;int&gt; | X1.29.20 &lt;int&gt; | X1.30.20 &lt;int&gt; | X1.31.20 &lt;int&gt; | ... ... | X4.9.20 &lt;int&gt; | X4.10.20 &lt;int&gt; | X4.11.20 &lt;int&gt; | X4.12.20 &lt;int&gt; | X4.13.20 &lt;int&gt; | X4.14.20 &lt;int&gt; | X4.15.20 &lt;int&gt; | X4.16.20 &lt;int&gt; | X4.17.20 &lt;int&gt; | X4.18.20 &lt;int&gt; |\n",
       "|---|---|---|---|---|---|---|---|---|---|---|---|---|---|---|---|---|---|---|---|---|---|\n",
       "| 1 | 0 | 0 | 0 | 0 | 0 | 0 | 0 | 0 | 0 | 0 | ... |  437 |  474 |  505 |  557 |  612 |  651 |  716 |  756 |  777 |  791 |\n",
       "| 2 | 0 | 0 | 0 | 0 | 0 | 0 | 0 | 0 | 0 | 0 | ... |  221 |  211 |  213 |  206 |  212 |  203 |  218 |  215 |  230 |  220 |\n",
       "| 3 | 0 | 0 | 0 | 0 | 0 | 0 | 0 | 0 | 0 | 0 | ... | 1084 | 1100 | 1090 | 1030 | 1069 | 1053 | 1116 | 1137 | 1208 | 1273 |\n",
       "| 4 | 0 | 0 | 0 | 0 | 0 | 0 | 0 | 0 | 0 | 0 | ... |  500 |  504 |  504 |  481 |  489 |  500 |  471 |  471 |  470 |  464 |\n",
       "| 5 | 0 | 0 | 0 | 0 | 0 | 0 | 0 | 0 | 0 | 0 | ... |   15 |   15 |   13 |   13 |   13 |   12 |   12 |   12 |   12 |   16 |\n",
       "| 6 | 0 | 0 | 0 | 0 | 0 | 0 | 0 | 0 | 0 | 0 | ... |   17 |   17 |   19 |   19 |   21 |   18 |   18 |   17 |   17 |   17 |\n",
       "\n"
      ],
      "text/plain": [
       "  X1.22.20 X1.23.20 X1.24.20 X1.25.20 X1.26.20 X1.27.20 X1.28.20 X1.29.20\n",
       "1 0        0        0        0        0        0        0        0       \n",
       "2 0        0        0        0        0        0        0        0       \n",
       "3 0        0        0        0        0        0        0        0       \n",
       "4 0        0        0        0        0        0        0        0       \n",
       "5 0        0        0        0        0        0        0        0       \n",
       "6 0        0        0        0        0        0        0        0       \n",
       "  X1.30.20 X1.31.20 ... X4.9.20 X4.10.20 X4.11.20 X4.12.20 X4.13.20 X4.14.20\n",
       "1 0        0        ...  437     474      505      557      612      651    \n",
       "2 0        0        ...  221     211      213      206      212      203    \n",
       "3 0        0        ... 1084    1100     1090     1030     1069     1053    \n",
       "4 0        0        ...  500     504      504      481      489      500    \n",
       "5 0        0        ...   15      15       13       13       13       12    \n",
       "6 0        0        ...   17      17       19       19       21       18    \n",
       "  X4.15.20 X4.16.20 X4.17.20 X4.18.20\n",
       "1  716      756      777      791    \n",
       "2  218      215      230      220    \n",
       "3 1116     1137     1208     1273    \n",
       "4  471      471      470      464    \n",
       "5   12       12       12       16    \n",
       "6   18       17       17       17    "
      ]
     },
     "metadata": {},
     "output_type": "display_data"
    }
   ],
   "source": [
    "# broj aktivnih slučajeva po državama i danima\n",
    "head(act)"
   ]
  },
  {
   "cell_type": "markdown",
   "metadata": {},
   "source": [
    "Pošto sad u tabeli __act__ nema imena, možemo da koristimo imena iz tabela __cod__, __ded__ ili __red__."
   ]
  },
  {
   "cell_type": "markdown",
   "metadata": {},
   "source": [
    "Da vidimo sad _time line_ za jednu zemlju, npr. Nemačku, odnosno linijski dijagram broja aktivnih slučajeva po danima. Funkciju `as.numeric` koristimo da bismo podatak pretvorili u broj tipa _double_ sa kojim je lakše računati. Funkcija `lines` dodaje nove linijske dijagrame na istu sliku."
   ]
  },
  {
   "cell_type": "code",
   "execution_count": 17,
   "metadata": {},
   "outputs": [
    {
     "name": "stderr",
     "output_type": "stream",
     "text": [
      "Warning message in xy.coords(x, y, xlabel, ylabel, log):\n",
      "\"5 y values <= 0 omitted from logarithmic plot\""
     ]
    },
    {
     "data": {
      "image/png": "[encoded data removed]",
      "text/plain": [
       "plot without title"
      ]
     },
     "metadata": {},
     "output_type": "display_data"
    }
   ],
   "source": [
    "# type=\"l\" se odnosi na tip grafikona, u ovom slučaju linijski\n",
    "# log=\"y je tu da bismo imali logaritamsku skalu na y-osi \n",
    "plot(as.numeric(act[cod$Group.1==\"Germany\",]),col=\"black\",\n",
    "     type=\"l\",log=\"y\",ylab=\"Broj aktivnih slučajeva\")\n",
    "grid()\n",
    "lines(as.numeric(act[cod$Group.1==\"Serbia\",]),col=\"red\")\n",
    "lines(as.numeric(act[cod$Group.1==\"Italy\",]),col=\"green\")\n"
   ]
  },
  {
   "cell_type": "markdown",
   "metadata": {},
   "source": [
    "Vidimo sa grafikona da je Nemačka negde oko 75-80 dana prošla maksimum broja aktivnih slučajeva i da je sad na silaznoj putanji.\n",
    "\n",
    "Upozorenja koja smo dobili se odnose na pokušaj da izračunamo logaritam od nule. R će samo da nas upozori i da izostavi podatke za ove dane sa grafikona. Prelažem da ignorišemo ova upozorenja i produžimo dalje. ;)"
   ]
  },
  {
   "cell_type": "markdown",
   "metadata": {},
   "source": [
    "Rast broja aktivnih slučajeva je bolje prikazati relativno, odnosno kao odnos brojeva aktivnih slučajeva za dva uzastopna dana kao __act[,length(act)]/act[,length(act)-1]__. Funkcija `length` nam daje broj elemenata u nekom nizu.\n",
    "\n",
    "(Umesto odnosa dva uzastopna dana, zbog statističkog šuma u podacima, bolje je da to uradimo za više dana pa da uzmemo srednju vrednost. Tako će greška procene rasta biti manja. Ovde sam dao primer odnosa podataka za poslednji dan i podatka od pre pet dana. Pošto je rast geometrijski, a ne aritmetički računamo 5-i koren umesto da rezultat delimo sa 5. Znam da je ovo komplikacija. Samo objašnjavam zašto u sledećem redu imamo eksponencijalnu funkciju i logaritme.)"
   ]
  },
  {
   "cell_type": "code",
   "execution_count": 18,
   "metadata": {},
   "outputs": [],
   "source": [
    "rast=exp((log(act[,length(act)])-log(act[,length(act)-5]))/5) # log varijanta"
   ]
  },
  {
   "cell_type": "code",
   "execution_count": 19,
   "metadata": {},
   "outputs": [],
   "source": [
    "# podacima o rastu možemo da pridružimo i imena država\n",
    "names(rast)=as.character(cod$Group.1)"
   ]
  },
  {
   "cell_type": "code",
   "execution_count": 20,
   "metadata": {},
   "outputs": [
    {
     "data": {
      "text/html": [
       "<style>\n",
       ".dl-inline {width: auto; margin:0; padding: 0}\n",
       ".dl-inline>dt, .dl-inline>dd {float: none; width: auto; display: inline-block}\n",
       ".dl-inline>dt::after {content: \":\\0020\"; padding-right: .5ex}\n",
       ".dl-inline>dt:not(:first-of-type) {padding-left: .5ex}\n",
       "</style><dl class=dl-inline><dt>Afghanistan</dt><dd>1.05265246616882</dd><dt>Albania</dt><dd>1.0074357633415</dd><dt>Algeria</dt><dd>1.0355477745707</dd><dt>Andorra</dt><dd>0.989559299038424</dd><dt>Angola</dt><dd>1.0424022162773</dd><dt>Antigua and Barbuda</dt><dd>0.958618763362938</dd><dt>Argentina</dt><dd>1.04023790458551</dd><dt>Armenia</dt><dd>0.971656907516827</dd><dt>Australia</dt><dd>0.879228862858923</dd><dt>Austria</dt><dd>0.912924225268351</dd></dl>\n"
      ],
      "text/latex": [
       "\\begin{description*}\n",
       "\\item[Afghanistan] 1.05265246616882\n",
       "\\item[Albania] 1.0074357633415\n",
       "\\item[Algeria] 1.0355477745707\n",
       "\\item[Andorra] 0.989559299038424\n",
       "\\item[Angola] 1.0424022162773\n",
       "\\item[Antigua and Barbuda] 0.958618763362938\n",
       "\\item[Argentina] 1.04023790458551\n",
       "\\item[Armenia] 0.971656907516827\n",
       "\\item[Australia] 0.879228862858923\n",
       "\\item[Austria] 0.912924225268351\n",
       "\\end{description*}\n"
      ],
      "text/markdown": [
       "Afghanistan\n",
       ":   1.05265246616882Albania\n",
       ":   1.0074357633415Algeria\n",
       ":   1.0355477745707Andorra\n",
       ":   0.989559299038424Angola\n",
       ":   1.0424022162773Antigua and Barbuda\n",
       ":   0.958618763362938Argentina\n",
       ":   1.04023790458551Armenia\n",
       ":   0.971656907516827Australia\n",
       ":   0.879228862858923Austria\n",
       ":   0.912924225268351\n",
       "\n"
      ],
      "text/plain": [
       "        Afghanistan             Albania             Algeria             Andorra \n",
       "          1.0526525           1.0074358           1.0355478           0.9895593 \n",
       "             Angola Antigua and Barbuda           Argentina             Armenia \n",
       "          1.0424022           0.9586188           1.0402379           0.9716569 \n",
       "          Australia             Austria \n",
       "          0.8792289           0.9129242 "
      ]
     },
     "metadata": {},
     "output_type": "display_data"
    }
   ],
   "source": [
    "head(rast,10)"
   ]
  },
  {
   "cell_type": "markdown",
   "metadata": {},
   "source": [
    "Kod zemalja sa malim brojem slučajeva rast može mnogo da varira pa ćemo zato isključiti iz tabele sve države koje danas imaju manje od 100 aktivnih slučajeva. Posle toga ćemo rast da izrazimo u procentima, odnosno da umesto odnosa 1.09 kažemo da je rast 9%."
   ]
  },
  {
   "cell_type": "code",
   "execution_count": 21,
   "metadata": {},
   "outputs": [],
   "source": [
    "rast=rast[act[,length(act)]>100]"
   ]
  },
  {
   "cell_type": "code",
   "execution_count": 22,
   "metadata": {},
   "outputs": [],
   "source": [
    "# dnevni rast u procentima\n",
    "rast=(rast-1)*100"
   ]
  },
  {
   "cell_type": "markdown",
   "metadata": {},
   "source": [
    "Ovde dolazimo do trenutka kad bi bilo lepo da na mapi prikažemo koliko raste broj aktivnih slučajeva po zemljama. Za to nam je potrebno da učitamo neke biblioteke za crtanje."
   ]
  },
  {
   "cell_type": "code",
   "execution_count": 23,
   "metadata": {},
   "outputs": [
    {
     "name": "stderr",
     "output_type": "stream",
     "text": [
      "Warning message:\n",
      "\"package 'rgdal' was built under R version 3.6.2\"Loading required package: sp\n",
      "Warning message:\n",
      "\"package 'sp' was built under R version 3.6.2\"rgdal: version: 1.4-8, (SVN revision 845)\n",
      " Geospatial Data Abstraction Library extensions to R successfully loaded\n",
      " Loaded GDAL runtime: GDAL 2.2.3, released 2017/11/20\n",
      " Path to GDAL shared files: C:/Users/srdjan/Documents/R/win-library/3.6/rgdal/gdal\n",
      " GDAL binary built with GEOS: TRUE \n",
      " Loaded PROJ.4 runtime: Rel. 4.9.3, 15 August 2016, [PJ_VERSION: 493]\n",
      " Path to PROJ.4 shared files: C:/Users/srdjan/Documents/R/win-library/3.6/rgdal/proj\n",
      " Linking to sp version: 1.3-2 \n"
     ]
    }
   ],
   "source": [
    "# Ove biblioteke su nam potrebne za crtanje mapa\n",
    "library(RColorBrewer)\n",
    "library(rgdal)"
   ]
  },
  {
   "cell_type": "markdown",
   "metadata": {},
   "source": [
    "U bibliotaci __rgdal__ postoji funkcija `readOGR` kojom možemo da pročitamo \"shape\" fajl sa konturama svih država na planeti. Kad to učitamo imaćemo moći ćemo da crtamo mape, odnosno grafikone tipa \"choropleth\". Ne morate ovim da se zamarate. Jupyter notebook omogućava da to sačuvamo i modifikujemo kad zatreba."
   ]
  },
  {
   "cell_type": "code",
   "execution_count": 24,
   "metadata": {},
   "outputs": [],
   "source": [
    "konture <- readOGR( \n",
    "  dsn= paste0(getwd(),\"/TM_WORLD_BORDERS_SIMPL-0.3.shp\") , \n",
    "  layer=\"TM_WORLD_BORDERS_SIMPL-0.3\",\n",
    "  verbose=FALSE\n",
    ")"
   ]
  },
  {
   "cell_type": "markdown",
   "metadata": {},
   "source": [
    "Promenljiva __konture__ ima vrlo složenu strukturu. Tu osim samih kontura imamo i osnovne podatke o svakoj zemlji."
   ]
  },
  {
   "cell_type": "code",
   "execution_count": 25,
   "metadata": {},
   "outputs": [
    {
     "data": {
      "text/html": [
       "<table>\n",
       "<caption>A data.frame: 6 × 11</caption>\n",
       "<thead>\n",
       "\t<tr><th></th><th scope=col>FIPS</th><th scope=col>ISO2</th><th scope=col>ISO3</th><th scope=col>UN</th><th scope=col>NAME</th><th scope=col>AREA</th><th scope=col>POP2005</th><th scope=col>REGION</th><th scope=col>SUBREGION</th><th scope=col>LON</th><th scope=col>LAT</th></tr>\n",
       "\t<tr><th></th><th scope=col>&lt;fct&gt;</th><th scope=col>&lt;fct&gt;</th><th scope=col>&lt;fct&gt;</th><th scope=col>&lt;int&gt;</th><th scope=col>&lt;fct&gt;</th><th scope=col>&lt;int&gt;</th><th scope=col>&lt;fct&gt;</th><th scope=col>&lt;int&gt;</th><th scope=col>&lt;int&gt;</th><th scope=col>&lt;dbl&gt;</th><th scope=col>&lt;dbl&gt;</th></tr>\n",
       "</thead>\n",
       "<tbody>\n",
       "\t<tr><th scope=row>0</th><td>AC</td><td>AG</td><td>ATG</td><td>28</td><td>Antigua and Barbuda</td><td>    44</td><td>83039   </td><td> 19</td><td> 29</td><td>-61.783</td><td> 17.078</td></tr>\n",
       "\t<tr><th scope=row>1</th><td>AG</td><td>DZ</td><td>DZA</td><td>12</td><td>Algeria            </td><td>238174</td><td>32854159</td><td>  2</td><td> 15</td><td>  2.632</td><td> 28.163</td></tr>\n",
       "\t<tr><th scope=row>2</th><td>AJ</td><td>AZ</td><td>AZE</td><td>31</td><td>Azerbaijan         </td><td>  8260</td><td>8352021 </td><td>142</td><td>145</td><td> 47.395</td><td> 40.430</td></tr>\n",
       "\t<tr><th scope=row>3</th><td>AL</td><td>AL</td><td>ALB</td><td> 8</td><td>Albania            </td><td>  2740</td><td>3153731 </td><td>150</td><td> 39</td><td> 20.068</td><td> 41.143</td></tr>\n",
       "\t<tr><th scope=row>4</th><td>AM</td><td>AM</td><td>ARM</td><td>51</td><td>Armenia            </td><td>  2820</td><td>3017661 </td><td>142</td><td>145</td><td> 44.563</td><td> 40.534</td></tr>\n",
       "\t<tr><th scope=row>5</th><td>AO</td><td>AO</td><td>AGO</td><td>24</td><td>Angola             </td><td>124670</td><td>16095214</td><td>  2</td><td> 17</td><td> 17.544</td><td>-12.296</td></tr>\n",
       "</tbody>\n",
       "</table>\n"
      ],
      "text/latex": [
       "A data.frame: 6 × 11\n",
       "\\begin{tabular}{r|lllllllllll}\n",
       "  & FIPS & ISO2 & ISO3 & UN & NAME & AREA & POP2005 & REGION & SUBREGION & LON & LAT\\\\\n",
       "  & <fct> & <fct> & <fct> & <int> & <fct> & <int> & <fct> & <int> & <int> & <dbl> & <dbl>\\\\\n",
       "\\hline\n",
       "\t0 & AC & AG & ATG & 28 & Antigua and Barbuda &     44 & 83039    &  19 &  29 & -61.783 &  17.078\\\\\n",
       "\t1 & AG & DZ & DZA & 12 & Algeria             & 238174 & 32854159 &   2 &  15 &   2.632 &  28.163\\\\\n",
       "\t2 & AJ & AZ & AZE & 31 & Azerbaijan          &   8260 & 8352021  & 142 & 145 &  47.395 &  40.430\\\\\n",
       "\t3 & AL & AL & ALB &  8 & Albania             &   2740 & 3153731  & 150 &  39 &  20.068 &  41.143\\\\\n",
       "\t4 & AM & AM & ARM & 51 & Armenia             &   2820 & 3017661  & 142 & 145 &  44.563 &  40.534\\\\\n",
       "\t5 & AO & AO & AGO & 24 & Angola              & 124670 & 16095214 &   2 &  17 &  17.544 & -12.296\\\\\n",
       "\\end{tabular}\n"
      ],
      "text/markdown": [
       "\n",
       "A data.frame: 6 × 11\n",
       "\n",
       "| <!--/--> | FIPS &lt;fct&gt; | ISO2 &lt;fct&gt; | ISO3 &lt;fct&gt; | UN &lt;int&gt; | NAME &lt;fct&gt; | AREA &lt;int&gt; | POP2005 &lt;fct&gt; | REGION &lt;int&gt; | SUBREGION &lt;int&gt; | LON &lt;dbl&gt; | LAT &lt;dbl&gt; |\n",
       "|---|---|---|---|---|---|---|---|---|---|---|---|\n",
       "| 0 | AC | AG | ATG | 28 | Antigua and Barbuda |     44 | 83039    |  19 |  29 | -61.783 |  17.078 |\n",
       "| 1 | AG | DZ | DZA | 12 | Algeria             | 238174 | 32854159 |   2 |  15 |   2.632 |  28.163 |\n",
       "| 2 | AJ | AZ | AZE | 31 | Azerbaijan          |   8260 | 8352021  | 142 | 145 |  47.395 |  40.430 |\n",
       "| 3 | AL | AL | ALB |  8 | Albania             |   2740 | 3153731  | 150 |  39 |  20.068 |  41.143 |\n",
       "| 4 | AM | AM | ARM | 51 | Armenia             |   2820 | 3017661  | 142 | 145 |  44.563 |  40.534 |\n",
       "| 5 | AO | AO | AGO | 24 | Angola              | 124670 | 16095214 |   2 |  17 |  17.544 | -12.296 |\n",
       "\n"
      ],
      "text/plain": [
       "  FIPS ISO2 ISO3 UN NAME                AREA   POP2005  REGION SUBREGION\n",
       "0 AC   AG   ATG  28 Antigua and Barbuda     44 83039     19     29      \n",
       "1 AG   DZ   DZA  12 Algeria             238174 32854159   2     15      \n",
       "2 AJ   AZ   AZE  31 Azerbaijan            8260 8352021  142    145      \n",
       "3 AL   AL   ALB   8 Albania               2740 3153731  150     39      \n",
       "4 AM   AM   ARM  51 Armenia               2820 3017661  142    145      \n",
       "5 AO   AO   AGO  24 Angola              124670 16095214   2     17      \n",
       "  LON     LAT    \n",
       "0 -61.783  17.078\n",
       "1   2.632  28.163\n",
       "2  47.395  40.430\n",
       "3  20.068  41.143\n",
       "4  44.563  40.534\n",
       "5  17.544 -12.296"
      ]
     },
     "metadata": {},
     "output_type": "display_data"
    }
   ],
   "source": [
    "head(konture@data)"
   ]
  },
  {
   "cell_type": "markdown",
   "metadata": {},
   "source": [
    "Za potrebe ove demonstracije prikazaćemo samo Evropu i njeno neposredno okruženje."
   ]
  },
  {
   "cell_type": "code",
   "execution_count": 26,
   "metadata": {},
   "outputs": [],
   "source": [
    "# Selektujemo evropske zemlje i još neke u okruženju prema geografskoj dužini i širini\n",
    "evropa <- konture[konture@data$REGION == 150 \n",
    "                  | (konture@data$LON>-19 & konture@data$LON<55)\n",
    "                  & (konture@data$LAT>20 & konture@data$LAT<65), ]"
   ]
  },
  {
   "cell_type": "markdown",
   "metadata": {},
   "source": [
    "Tabeli __evropa@data__ ćemo dodati jednu kolonu pod nazivom rast. Za početak će u celoj koloni biti vrednost NA ( _not avalable_ )."
   ]
  },
  {
   "cell_type": "code",
   "execution_count": 27,
   "metadata": {},
   "outputs": [],
   "source": [
    "evropa@data$rast=NA"
   ]
  },
  {
   "cell_type": "markdown",
   "metadata": {},
   "source": [
    "Sledeći zadatak je povezati vrednosti iz niza __rast__ sa odgovarajućim državama iz tabele __evropa@data__. Moraćemo da pronađemo gde se ime države iz niza __rast__ nalazi u tabeli. Za to koristimo funkciju `match`."
   ]
  },
  {
   "cell_type": "code",
   "execution_count": 28,
   "metadata": {},
   "outputs": [],
   "source": [
    "pozicije_imena=match(names(rast),evropa@data$NAME)"
   ]
  },
  {
   "cell_type": "code",
   "execution_count": 29,
   "metadata": {},
   "outputs": [
    {
     "data": {
      "text/html": [
       "<style>\n",
       ".list-inline {list-style: none; margin:0; padding: 0}\n",
       ".list-inline>li {display: inline-block}\n",
       ".list-inline>li:not(:last-child)::after {content: \"\\00b7\"; padding: 0 .5ex}\n",
       "</style>\n",
       "<ol class=list-inline><li>&lt;NA&gt;</li><li>3</li><li>1</li><li>42</li><li>&lt;NA&gt;</li><li>4</li><li>&lt;NA&gt;</li><li>13</li><li>2</li><li>5</li><li>&lt;NA&gt;</li><li>31</li><li>40</li><li>&lt;NA&gt;</li><li>6</li><li>&lt;NA&gt;</li><li>7</li><li>&lt;NA&gt;</li><li>&lt;NA&gt;</li><li>&lt;NA&gt;</li><li>&lt;NA&gt;</li><li>&lt;NA&gt;</li><li>&lt;NA&gt;</li><li>&lt;NA&gt;</li><li>&lt;NA&gt;</li><li>&lt;NA&gt;</li><li>&lt;NA&gt;</li><li>20</li><li>&lt;NA&gt;</li><li>8</li><li>&lt;NA&gt;</li><li>9</li><li>&lt;NA&gt;</li><li>&lt;NA&gt;</li><li>&lt;NA&gt;</li><li>10</li><li>&lt;NA&gt;</li><li>12</li><li>15</li><li>16</li><li>17</li><li>18</li><li>&lt;NA&gt;</li><li>19</li><li>&lt;NA&gt;</li><li>&lt;NA&gt;</li><li>&lt;NA&gt;</li><li>21</li><li>22</li><li>&lt;NA&gt;</li><li>&lt;NA&gt;</li><li>&lt;NA&gt;</li><li>26</li><li>11</li><li>24</li><li>25</li><li>&lt;NA&gt;</li><li>&lt;NA&gt;</li><li>27</li><li>&lt;NA&gt;</li><li>&lt;NA&gt;</li><li>&lt;NA&gt;</li><li>&lt;NA&gt;</li><li>28</li><li>&lt;NA&gt;</li><li>30</li><li>29</li><li>32</li><li>45</li><li>&lt;NA&gt;</li><li>&lt;NA&gt;</li><li>39</li><li>&lt;NA&gt;</li><li>&lt;NA&gt;</li><li>&lt;NA&gt;</li><li>48</li><li>37</li><li>50</li><li>&lt;NA&gt;</li><li>&lt;NA&gt;</li><li>&lt;NA&gt;</li><li>&lt;NA&gt;</li><li>51</li><li>&lt;NA&gt;</li><li>&lt;NA&gt;</li><li>&lt;NA&gt;</li><li>&lt;NA&gt;</li><li>&lt;NA&gt;</li><li>&lt;NA&gt;</li><li>52</li><li>53</li><li>54</li><li>55</li><li>57</li><li>69</li><li>58</li><li>&lt;NA&gt;</li><li>71</li><li>&lt;NA&gt;</li><li>33</li><li>59</li><li>&lt;NA&gt;</li><li>&lt;NA&gt;</li><li>60</li><li>&lt;NA&gt;</li><li>61</li><li>63</li><li>&lt;NA&gt;</li><li>&lt;NA&gt;</li><li>&lt;NA&gt;</li><li>64</li><li>65</li><li>67</li><li>68</li><li>66</li><li>&lt;NA&gt;</li><li>&lt;NA&gt;</li><li>&lt;NA&gt;</li><li>&lt;NA&gt;</li><li>&lt;NA&gt;</li></ol>\n"
      ],
      "text/latex": [
       "\\begin{enumerate*}\n",
       "\\item <NA>\n",
       "\\item 3\n",
       "\\item 1\n",
       "\\item 42\n",
       "\\item <NA>\n",
       "\\item 4\n",
       "\\item <NA>\n",
       "\\item 13\n",
       "\\item 2\n",
       "\\item 5\n",
       "\\item <NA>\n",
       "\\item 31\n",
       "\\item 40\n",
       "\\item <NA>\n",
       "\\item 6\n",
       "\\item <NA>\n",
       "\\item 7\n",
       "\\item <NA>\n",
       "\\item <NA>\n",
       "\\item <NA>\n",
       "\\item <NA>\n",
       "\\item <NA>\n",
       "\\item <NA>\n",
       "\\item <NA>\n",
       "\\item <NA>\n",
       "\\item <NA>\n",
       "\\item <NA>\n",
       "\\item 20\n",
       "\\item <NA>\n",
       "\\item 8\n",
       "\\item <NA>\n",
       "\\item 9\n",
       "\\item <NA>\n",
       "\\item <NA>\n",
       "\\item <NA>\n",
       "\\item 10\n",
       "\\item <NA>\n",
       "\\item 12\n",
       "\\item 15\n",
       "\\item 16\n",
       "\\item 17\n",
       "\\item 18\n",
       "\\item <NA>\n",
       "\\item 19\n",
       "\\item <NA>\n",
       "\\item <NA>\n",
       "\\item <NA>\n",
       "\\item 21\n",
       "\\item 22\n",
       "\\item <NA>\n",
       "\\item <NA>\n",
       "\\item <NA>\n",
       "\\item 26\n",
       "\\item 11\n",
       "\\item 24\n",
       "\\item 25\n",
       "\\item <NA>\n",
       "\\item <NA>\n",
       "\\item 27\n",
       "\\item <NA>\n",
       "\\item <NA>\n",
       "\\item <NA>\n",
       "\\item <NA>\n",
       "\\item 28\n",
       "\\item <NA>\n",
       "\\item 30\n",
       "\\item 29\n",
       "\\item 32\n",
       "\\item 45\n",
       "\\item <NA>\n",
       "\\item <NA>\n",
       "\\item 39\n",
       "\\item <NA>\n",
       "\\item <NA>\n",
       "\\item <NA>\n",
       "\\item 48\n",
       "\\item 37\n",
       "\\item 50\n",
       "\\item <NA>\n",
       "\\item <NA>\n",
       "\\item <NA>\n",
       "\\item <NA>\n",
       "\\item 51\n",
       "\\item <NA>\n",
       "\\item <NA>\n",
       "\\item <NA>\n",
       "\\item <NA>\n",
       "\\item <NA>\n",
       "\\item <NA>\n",
       "\\item 52\n",
       "\\item 53\n",
       "\\item 54\n",
       "\\item 55\n",
       "\\item 57\n",
       "\\item 69\n",
       "\\item 58\n",
       "\\item <NA>\n",
       "\\item 71\n",
       "\\item <NA>\n",
       "\\item 33\n",
       "\\item 59\n",
       "\\item <NA>\n",
       "\\item <NA>\n",
       "\\item 60\n",
       "\\item <NA>\n",
       "\\item 61\n",
       "\\item 63\n",
       "\\item <NA>\n",
       "\\item <NA>\n",
       "\\item <NA>\n",
       "\\item 64\n",
       "\\item 65\n",
       "\\item 67\n",
       "\\item 68\n",
       "\\item 66\n",
       "\\item <NA>\n",
       "\\item <NA>\n",
       "\\item <NA>\n",
       "\\item <NA>\n",
       "\\item <NA>\n",
       "\\end{enumerate*}\n"
      ],
      "text/markdown": [
       "1. &lt;NA&gt;\n",
       "2. 3\n",
       "3. 1\n",
       "4. 42\n",
       "5. &lt;NA&gt;\n",
       "6. 4\n",
       "7. &lt;NA&gt;\n",
       "8. 13\n",
       "9. 2\n",
       "10. 5\n",
       "11. &lt;NA&gt;\n",
       "12. 31\n",
       "13. 40\n",
       "14. &lt;NA&gt;\n",
       "15. 6\n",
       "16. &lt;NA&gt;\n",
       "17. 7\n",
       "18. &lt;NA&gt;\n",
       "19. &lt;NA&gt;\n",
       "20. &lt;NA&gt;\n",
       "21. &lt;NA&gt;\n",
       "22. &lt;NA&gt;\n",
       "23. &lt;NA&gt;\n",
       "24. &lt;NA&gt;\n",
       "25. &lt;NA&gt;\n",
       "26. &lt;NA&gt;\n",
       "27. &lt;NA&gt;\n",
       "28. 20\n",
       "29. &lt;NA&gt;\n",
       "30. 8\n",
       "31. &lt;NA&gt;\n",
       "32. 9\n",
       "33. &lt;NA&gt;\n",
       "34. &lt;NA&gt;\n",
       "35. &lt;NA&gt;\n",
       "36. 10\n",
       "37. &lt;NA&gt;\n",
       "38. 12\n",
       "39. 15\n",
       "40. 16\n",
       "41. 17\n",
       "42. 18\n",
       "43. &lt;NA&gt;\n",
       "44. 19\n",
       "45. &lt;NA&gt;\n",
       "46. &lt;NA&gt;\n",
       "47. &lt;NA&gt;\n",
       "48. 21\n",
       "49. 22\n",
       "50. &lt;NA&gt;\n",
       "51. &lt;NA&gt;\n",
       "52. &lt;NA&gt;\n",
       "53. 26\n",
       "54. 11\n",
       "55. 24\n",
       "56. 25\n",
       "57. &lt;NA&gt;\n",
       "58. &lt;NA&gt;\n",
       "59. 27\n",
       "60. &lt;NA&gt;\n",
       "61. &lt;NA&gt;\n",
       "62. &lt;NA&gt;\n",
       "63. &lt;NA&gt;\n",
       "64. 28\n",
       "65. &lt;NA&gt;\n",
       "66. 30\n",
       "67. 29\n",
       "68. 32\n",
       "69. 45\n",
       "70. &lt;NA&gt;\n",
       "71. &lt;NA&gt;\n",
       "72. 39\n",
       "73. &lt;NA&gt;\n",
       "74. &lt;NA&gt;\n",
       "75. &lt;NA&gt;\n",
       "76. 48\n",
       "77. 37\n",
       "78. 50\n",
       "79. &lt;NA&gt;\n",
       "80. &lt;NA&gt;\n",
       "81. &lt;NA&gt;\n",
       "82. &lt;NA&gt;\n",
       "83. 51\n",
       "84. &lt;NA&gt;\n",
       "85. &lt;NA&gt;\n",
       "86. &lt;NA&gt;\n",
       "87. &lt;NA&gt;\n",
       "88. &lt;NA&gt;\n",
       "89. &lt;NA&gt;\n",
       "90. 52\n",
       "91. 53\n",
       "92. 54\n",
       "93. 55\n",
       "94. 57\n",
       "95. 69\n",
       "96. 58\n",
       "97. &lt;NA&gt;\n",
       "98. 71\n",
       "99. &lt;NA&gt;\n",
       "100. 33\n",
       "101. 59\n",
       "102. &lt;NA&gt;\n",
       "103. &lt;NA&gt;\n",
       "104. 60\n",
       "105. &lt;NA&gt;\n",
       "106. 61\n",
       "107. 63\n",
       "108. &lt;NA&gt;\n",
       "109. &lt;NA&gt;\n",
       "110. &lt;NA&gt;\n",
       "111. 64\n",
       "112. 65\n",
       "113. 67\n",
       "114. 68\n",
       "115. 66\n",
       "116. &lt;NA&gt;\n",
       "117. &lt;NA&gt;\n",
       "118. &lt;NA&gt;\n",
       "119. &lt;NA&gt;\n",
       "120. &lt;NA&gt;\n",
       "\n",
       "\n"
      ],
      "text/plain": [
       "  [1] NA  3  1 42 NA  4 NA 13  2  5 NA 31 40 NA  6 NA  7 NA NA NA NA NA NA NA NA\n",
       " [26] NA NA 20 NA  8 NA  9 NA NA NA 10 NA 12 15 16 17 18 NA 19 NA NA NA 21 22 NA\n",
       " [51] NA NA 26 11 24 25 NA NA 27 NA NA NA NA 28 NA 30 29 32 45 NA NA 39 NA NA NA\n",
       " [76] 48 37 50 NA NA NA NA 51 NA NA NA NA NA NA 52 53 54 55 57 69 58 NA 71 NA 33\n",
       "[101] 59 NA NA 60 NA 61 63 NA NA NA 64 65 67 68 66 NA NA NA NA NA"
      ]
     },
     "metadata": {},
     "output_type": "display_data"
    }
   ],
   "source": [
    "pozicije_imena"
   ]
  },
  {
   "cell_type": "markdown",
   "metadata": {},
   "source": [
    "Očigledno je neke imena nekih država nemoguće pronaći u tabeli. One nisu u Evropi i njenoj okolini. Na tim mestima se u nizu __pozicija_imena__ nalazi NA. Istini za volju, ovako nećemo pronaći još neke zemlje jer imaju različita imena na ova dva mesta, npr. Czechia i Czech Republic ili North Macedonia i BYRM. To možemo da popravimo, ali nije posebno važno za ovu demonstraciju. Ostavićemo i ovde NA.\n",
    "\n",
    "Umesto niza __pozicija_imena__ možemo da koristimo onaj gde su samo prepoznata imena, tj. niz gde su NA vrednosti isključene. Funkcija `na.omit` za to služi."
   ]
  },
  {
   "cell_type": "code",
   "execution_count": 30,
   "metadata": {},
   "outputs": [
    {
     "data": {
      "text/html": [
       "<style>\n",
       ".list-inline {list-style: none; margin:0; padding: 0}\n",
       ".list-inline>li {display: inline-block}\n",
       ".list-inline>li:not(:last-child)::after {content: \"\\00b7\"; padding: 0 .5ex}\n",
       "</style>\n",
       "<ol class=list-inline><li>3</li><li>1</li><li>42</li><li>4</li><li>13</li><li>2</li><li>5</li><li>31</li><li>40</li><li>6</li><li>7</li><li>20</li><li>8</li><li>9</li><li>10</li><li>12</li><li>15</li><li>16</li><li>17</li><li>18</li><li>19</li><li>21</li><li>22</li><li>26</li><li>11</li><li>24</li><li>25</li><li>27</li><li>28</li><li>30</li><li>29</li><li>32</li><li>45</li><li>39</li><li>48</li><li>37</li><li>50</li><li>51</li><li>52</li><li>53</li><li>54</li><li>55</li><li>57</li><li>69</li><li>58</li><li>71</li><li>33</li><li>59</li><li>60</li><li>61</li><li>63</li><li>64</li><li>65</li><li>67</li><li>68</li><li>66</li></ol>\n"
      ],
      "text/latex": [
       "\\begin{enumerate*}\n",
       "\\item 3\n",
       "\\item 1\n",
       "\\item 42\n",
       "\\item 4\n",
       "\\item 13\n",
       "\\item 2\n",
       "\\item 5\n",
       "\\item 31\n",
       "\\item 40\n",
       "\\item 6\n",
       "\\item 7\n",
       "\\item 20\n",
       "\\item 8\n",
       "\\item 9\n",
       "\\item 10\n",
       "\\item 12\n",
       "\\item 15\n",
       "\\item 16\n",
       "\\item 17\n",
       "\\item 18\n",
       "\\item 19\n",
       "\\item 21\n",
       "\\item 22\n",
       "\\item 26\n",
       "\\item 11\n",
       "\\item 24\n",
       "\\item 25\n",
       "\\item 27\n",
       "\\item 28\n",
       "\\item 30\n",
       "\\item 29\n",
       "\\item 32\n",
       "\\item 45\n",
       "\\item 39\n",
       "\\item 48\n",
       "\\item 37\n",
       "\\item 50\n",
       "\\item 51\n",
       "\\item 52\n",
       "\\item 53\n",
       "\\item 54\n",
       "\\item 55\n",
       "\\item 57\n",
       "\\item 69\n",
       "\\item 58\n",
       "\\item 71\n",
       "\\item 33\n",
       "\\item 59\n",
       "\\item 60\n",
       "\\item 61\n",
       "\\item 63\n",
       "\\item 64\n",
       "\\item 65\n",
       "\\item 67\n",
       "\\item 68\n",
       "\\item 66\n",
       "\\end{enumerate*}\n"
      ],
      "text/markdown": [
       "1. 3\n",
       "2. 1\n",
       "3. 42\n",
       "4. 4\n",
       "5. 13\n",
       "6. 2\n",
       "7. 5\n",
       "8. 31\n",
       "9. 40\n",
       "10. 6\n",
       "11. 7\n",
       "12. 20\n",
       "13. 8\n",
       "14. 9\n",
       "15. 10\n",
       "16. 12\n",
       "17. 15\n",
       "18. 16\n",
       "19. 17\n",
       "20. 18\n",
       "21. 19\n",
       "22. 21\n",
       "23. 22\n",
       "24. 26\n",
       "25. 11\n",
       "26. 24\n",
       "27. 25\n",
       "28. 27\n",
       "29. 28\n",
       "30. 30\n",
       "31. 29\n",
       "32. 32\n",
       "33. 45\n",
       "34. 39\n",
       "35. 48\n",
       "36. 37\n",
       "37. 50\n",
       "38. 51\n",
       "39. 52\n",
       "40. 53\n",
       "41. 54\n",
       "42. 55\n",
       "43. 57\n",
       "44. 69\n",
       "45. 58\n",
       "46. 71\n",
       "47. 33\n",
       "48. 59\n",
       "49. 60\n",
       "50. 61\n",
       "51. 63\n",
       "52. 64\n",
       "53. 65\n",
       "54. 67\n",
       "55. 68\n",
       "56. 66\n",
       "\n",
       "\n"
      ],
      "text/plain": [
       " [1]  3  1 42  4 13  2  5 31 40  6  7 20  8  9 10 12 15 16 17 18 19 21 22 26 11\n",
       "[26] 24 25 27 28 30 29 32 45 39 48 37 50 51 52 53 54 55 57 69 58 71 33 59 60 61\n",
       "[51] 63 64 65 67 68 66\n",
       "attr(,\"na.action\")\n",
       " [1]   1   5   7  11  14  16  18  19  20  21  22  23  24  25  26  27  29  31  33\n",
       "[20]  34  35  37  43  45  46  47  50  51  52  57  58  60  61  62  63  65  70  71\n",
       "[39]  73  74  75  79  80  81  82  84  85  86  87  88  89  97  99 102 103 105 108\n",
       "[58] 109 110 116 117 118 119 120\n",
       "attr(,\"class\")\n",
       "[1] \"omit\""
      ]
     },
     "metadata": {},
     "output_type": "display_data"
    }
   ],
   "source": [
    "na.omit(pozicije_imena)"
   ]
  },
  {
   "cell_type": "code",
   "execution_count": 31,
   "metadata": {},
   "outputs": [],
   "source": [
    "evropa@data$rast[na.omit(pozicije_imena)]=rast[!is.na(pozicije_imena)]"
   ]
  },
  {
   "cell_type": "code",
   "execution_count": 32,
   "metadata": {},
   "outputs": [
    {
     "data": {
      "text/html": [
       "<table>\n",
       "<caption>A data.frame: 10 × 12</caption>\n",
       "<thead>\n",
       "\t<tr><th></th><th scope=col>FIPS</th><th scope=col>ISO2</th><th scope=col>ISO3</th><th scope=col>UN</th><th scope=col>NAME</th><th scope=col>AREA</th><th scope=col>POP2005</th><th scope=col>REGION</th><th scope=col>SUBREGION</th><th scope=col>LON</th><th scope=col>LAT</th><th scope=col>rast</th></tr>\n",
       "\t<tr><th></th><th scope=col>&lt;fct&gt;</th><th scope=col>&lt;fct&gt;</th><th scope=col>&lt;fct&gt;</th><th scope=col>&lt;int&gt;</th><th scope=col>&lt;fct&gt;</th><th scope=col>&lt;int&gt;</th><th scope=col>&lt;fct&gt;</th><th scope=col>&lt;int&gt;</th><th scope=col>&lt;int&gt;</th><th scope=col>&lt;dbl&gt;</th><th scope=col>&lt;dbl&gt;</th><th scope=col>&lt;dbl&gt;</th></tr>\n",
       "</thead>\n",
       "<tbody>\n",
       "\t<tr><th scope=row>1</th><td>AG</td><td>DZ</td><td>DZA</td><td> 12</td><td>Algeria               </td><td>238174</td><td>32854159</td><td>  2</td><td> 15</td><td> 2.632</td><td>28.163</td><td> 3.5547775</td></tr>\n",
       "\t<tr><th scope=row>2</th><td>AJ</td><td>AZ</td><td>AZE</td><td> 31</td><td>Azerbaijan            </td><td>  8260</td><td>8352021 </td><td>142</td><td>145</td><td>47.395</td><td>40.430</td><td>-2.0159007</td></tr>\n",
       "\t<tr><th scope=row>3</th><td>AL</td><td>AL</td><td>ALB</td><td>  8</td><td>Albania               </td><td>  2740</td><td>3153731 </td><td>150</td><td> 39</td><td>20.068</td><td>41.143</td><td> 0.7435763</td></tr>\n",
       "\t<tr><th scope=row>4</th><td>AM</td><td>AM</td><td>ARM</td><td> 51</td><td>Armenia               </td><td>  2820</td><td>3017661 </td><td>142</td><td>145</td><td>44.563</td><td>40.534</td><td>-2.8343092</td></tr>\n",
       "\t<tr><th scope=row>9</th><td>BA</td><td>BH</td><td>BHR</td><td> 48</td><td>Bahrain               </td><td>    71</td><td>724788  </td><td>142</td><td>145</td><td>50.562</td><td>26.019</td><td> 5.7624638</td></tr>\n",
       "\t<tr><th scope=row>15</th><td>BK</td><td>BA</td><td>BIH</td><td> 70</td><td>Bosnia and Herzegovina</td><td>  5120</td><td>3915238 </td><td>150</td><td> 39</td><td>17.786</td><td>44.169</td><td> 2.1991078</td></tr>\n",
       "\t<tr><th scope=row>21</th><td>BU</td><td>BG</td><td>BGR</td><td>100</td><td>Bulgaria              </td><td> 11063</td><td>7744591 </td><td>150</td><td>151</td><td>25.231</td><td>42.761</td><td> 3.2824719</td></tr>\n",
       "\t<tr><th scope=row>43</th><td>CY</td><td>CY</td><td>CYP</td><td>196</td><td>Cyprus                </td><td>   924</td><td>836321  </td><td>142</td><td>145</td><td>33.219</td><td>35.043</td><td> 2.7504630</td></tr>\n",
       "\t<tr><th scope=row>44</th><td>DA</td><td>DK</td><td>DNK</td><td>208</td><td>Denmark               </td><td>  4243</td><td>5416945 </td><td>150</td><td>154</td><td> 9.264</td><td>56.058</td><td>-4.3647500</td></tr>\n",
       "\t<tr><th scope=row>49</th><td>EG</td><td>EG</td><td>EGY</td><td>818</td><td>Egypt                 </td><td> 99545</td><td>72849793</td><td>  2</td><td> 15</td><td>29.872</td><td>26.494</td><td> 7.9546997</td></tr>\n",
       "</tbody>\n",
       "</table>\n"
      ],
      "text/latex": [
       "A data.frame: 10 × 12\n",
       "\\begin{tabular}{r|llllllllllll}\n",
       "  & FIPS & ISO2 & ISO3 & UN & NAME & AREA & POP2005 & REGION & SUBREGION & LON & LAT & rast\\\\\n",
       "  & <fct> & <fct> & <fct> & <int> & <fct> & <int> & <fct> & <int> & <int> & <dbl> & <dbl> & <dbl>\\\\\n",
       "\\hline\n",
       "\t1 & AG & DZ & DZA &  12 & Algeria                & 238174 & 32854159 &   2 &  15 &  2.632 & 28.163 &  3.5547775\\\\\n",
       "\t2 & AJ & AZ & AZE &  31 & Azerbaijan             &   8260 & 8352021  & 142 & 145 & 47.395 & 40.430 & -2.0159007\\\\\n",
       "\t3 & AL & AL & ALB &   8 & Albania                &   2740 & 3153731  & 150 &  39 & 20.068 & 41.143 &  0.7435763\\\\\n",
       "\t4 & AM & AM & ARM &  51 & Armenia                &   2820 & 3017661  & 142 & 145 & 44.563 & 40.534 & -2.8343092\\\\\n",
       "\t9 & BA & BH & BHR &  48 & Bahrain                &     71 & 724788   & 142 & 145 & 50.562 & 26.019 &  5.7624638\\\\\n",
       "\t15 & BK & BA & BIH &  70 & Bosnia and Herzegovina &   5120 & 3915238  & 150 &  39 & 17.786 & 44.169 &  2.1991078\\\\\n",
       "\t21 & BU & BG & BGR & 100 & Bulgaria               &  11063 & 7744591  & 150 & 151 & 25.231 & 42.761 &  3.2824719\\\\\n",
       "\t43 & CY & CY & CYP & 196 & Cyprus                 &    924 & 836321   & 142 & 145 & 33.219 & 35.043 &  2.7504630\\\\\n",
       "\t44 & DA & DK & DNK & 208 & Denmark                &   4243 & 5416945  & 150 & 154 &  9.264 & 56.058 & -4.3647500\\\\\n",
       "\t49 & EG & EG & EGY & 818 & Egypt                  &  99545 & 72849793 &   2 &  15 & 29.872 & 26.494 &  7.9546997\\\\\n",
       "\\end{tabular}\n"
      ],
      "text/markdown": [
       "\n",
       "A data.frame: 10 × 12\n",
       "\n",
       "| <!--/--> | FIPS &lt;fct&gt; | ISO2 &lt;fct&gt; | ISO3 &lt;fct&gt; | UN &lt;int&gt; | NAME &lt;fct&gt; | AREA &lt;int&gt; | POP2005 &lt;fct&gt; | REGION &lt;int&gt; | SUBREGION &lt;int&gt; | LON &lt;dbl&gt; | LAT &lt;dbl&gt; | rast &lt;dbl&gt; |\n",
       "|---|---|---|---|---|---|---|---|---|---|---|---|---|\n",
       "| 1 | AG | DZ | DZA |  12 | Algeria                | 238174 | 32854159 |   2 |  15 |  2.632 | 28.163 |  3.5547775 |\n",
       "| 2 | AJ | AZ | AZE |  31 | Azerbaijan             |   8260 | 8352021  | 142 | 145 | 47.395 | 40.430 | -2.0159007 |\n",
       "| 3 | AL | AL | ALB |   8 | Albania                |   2740 | 3153731  | 150 |  39 | 20.068 | 41.143 |  0.7435763 |\n",
       "| 4 | AM | AM | ARM |  51 | Armenia                |   2820 | 3017661  | 142 | 145 | 44.563 | 40.534 | -2.8343092 |\n",
       "| 9 | BA | BH | BHR |  48 | Bahrain                |     71 | 724788   | 142 | 145 | 50.562 | 26.019 |  5.7624638 |\n",
       "| 15 | BK | BA | BIH |  70 | Bosnia and Herzegovina |   5120 | 3915238  | 150 |  39 | 17.786 | 44.169 |  2.1991078 |\n",
       "| 21 | BU | BG | BGR | 100 | Bulgaria               |  11063 | 7744591  | 150 | 151 | 25.231 | 42.761 |  3.2824719 |\n",
       "| 43 | CY | CY | CYP | 196 | Cyprus                 |    924 | 836321   | 142 | 145 | 33.219 | 35.043 |  2.7504630 |\n",
       "| 44 | DA | DK | DNK | 208 | Denmark                |   4243 | 5416945  | 150 | 154 |  9.264 | 56.058 | -4.3647500 |\n",
       "| 49 | EG | EG | EGY | 818 | Egypt                  |  99545 | 72849793 |   2 |  15 | 29.872 | 26.494 |  7.9546997 |\n",
       "\n"
      ],
      "text/plain": [
       "   FIPS ISO2 ISO3 UN  NAME                   AREA   POP2005  REGION SUBREGION\n",
       "1  AG   DZ   DZA   12 Algeria                238174 32854159   2     15      \n",
       "2  AJ   AZ   AZE   31 Azerbaijan               8260 8352021  142    145      \n",
       "3  AL   AL   ALB    8 Albania                  2740 3153731  150     39      \n",
       "4  AM   AM   ARM   51 Armenia                  2820 3017661  142    145      \n",
       "9  BA   BH   BHR   48 Bahrain                    71 724788   142    145      \n",
       "15 BK   BA   BIH   70 Bosnia and Herzegovina   5120 3915238  150     39      \n",
       "21 BU   BG   BGR  100 Bulgaria                11063 7744591  150    151      \n",
       "43 CY   CY   CYP  196 Cyprus                    924 836321   142    145      \n",
       "44 DA   DK   DNK  208 Denmark                  4243 5416945  150    154      \n",
       "49 EG   EG   EGY  818 Egypt                   99545 72849793   2     15      \n",
       "   LON    LAT    rast      \n",
       "1   2.632 28.163  3.5547775\n",
       "2  47.395 40.430 -2.0159007\n",
       "3  20.068 41.143  0.7435763\n",
       "4  44.563 40.534 -2.8343092\n",
       "9  50.562 26.019  5.7624638\n",
       "15 17.786 44.169  2.1991078\n",
       "21 25.231 42.761  3.2824719\n",
       "43 33.219 35.043  2.7504630\n",
       "44  9.264 56.058 -4.3647500\n",
       "49 29.872 26.494  7.9546997"
      ]
     },
     "metadata": {},
     "output_type": "display_data"
    }
   ],
   "source": [
    "head(evropa@data,10)"
   ]
  },
  {
   "cell_type": "markdown",
   "metadata": {},
   "source": [
    "Paleta boja __RdYlGn__ koja je zgodna za prikazivanje boja od crvene do zelene ima samo 11 boja. Zato je potrebno da vrednosti za __rast__ grubo svrstamo u 11 kategorija. Funkcija `cut` deli ceo raspon vrednosti na intervale."
   ]
  },
  {
   "cell_type": "code",
   "execution_count": 33,
   "metadata": {},
   "outputs": [],
   "source": [
    "# Attribute the appropriate color to each country\n",
    "kategorija <- cut(evropa@data$rast, breaks=seq(-16.5,16.5,by=3))\n",
    "boje=brewer.pal(11, \"RdYlGn\")"
   ]
  },
  {
   "cell_type": "markdown",
   "metadata": {},
   "source": [
    "Da ne bi najmanje vrednosti imale crvenu boju, a najveće zelenu, obrnućemo redosled. Umesto boja od 1 do 11, uzimamo 12 - (od 1 do 11), tj. od 11 do 1."
   ]
  },
  {
   "cell_type": "code",
   "execution_count": 34,
   "metadata": {},
   "outputs": [
    {
     "data": {
      "image/png": "[encoded data removed]",
      "text/plain": [
       "Plot with title \"Daily change in number of active cases\""
      ]
     },
     "metadata": {},
     "output_type": "display_data"
    }
   ],
   "source": [
    "boje=boje[12-as.numeric(kategorija)]\n",
    "# za zemlje koje nisu prepoznate stavljamo sivu boju (#999999)\n",
    "boje[is.na(evropa@data$rast)]=\"#999999\"\n",
    " \n",
    "# Choropleth\n",
    "plot(evropa , xlim=c(-17,45) , ylim=c(45,48), col=boje ,  bg = \"#A6CAE0\")\n",
    "title('Daily change in number of active cases')\n",
    "legend(\"bottomleft\",\n",
    "  legend = rev(levels(kategorija)), # i ovde moramo da obrnemo redosled \n",
    "  title = \"Change [%]\",\n",
    "  fill = brewer.pal(11, \"RdYlGn\"),\n",
    "  cex = 0.6,\n",
    "  bty = \"n\")\n",
    "text(42,27,paste(as.character(Sys.Date()),\" @sverbic\"),cex=.5)"
   ]
  },
  {
   "cell_type": "markdown",
   "metadata": {},
   "source": [
    "Konačno, dobili smo choropleth gde se vidi u kojim zemljama još uvek ubrzano raste broj aktivnih slučajeva (crvenkasto), a u kojima opada (zelenkasto). Ostaje nam da se nadamo da će u dogledno vreme sve pozeleneti."
   ]
  }
 ],
 "metadata": {
  "kernelspec": {
   "display_name": "R",
   "language": "R",
   "name": "ir"
  },
  "language_info": {
   "codemirror_mode": "r",
   "file_extension": ".r",
   "mimetype": "text/x-r-source",
   "name": "R",
   "pygments_lexer": "r",
   "version": "3.6.1"
  }
 },
 "nbformat": 4,
 "nbformat_minor": 2
}
